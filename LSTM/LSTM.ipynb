{
 "cells": [
  {
   "cell_type": "code",
   "execution_count": 1,
   "metadata": {},
   "outputs": [
    {
     "name": "stderr",
     "output_type": "stream",
     "text": [
      "c:\\Users\\nati\\Desktop\\Implementations\\ImplementationsVenv\\lib\\site-packages\\tqdm\\auto.py:22: TqdmWarning: IProgress not found. Please update jupyter and ipywidgets. See https://ipywidgets.readthedocs.io/en/stable/user_install.html\n",
      "  from .autonotebook import tqdm as notebook_tqdm\n"
     ]
    }
   ],
   "source": [
    "import seaborn as sns\n",
    "import pandas as pd\n",
    "import torch\n",
    "import numpy as np\n",
    "import matplotlib.pyplot as plt\n",
    "import torch.nn as nn\n",
    "import torch.nn.functional as F\n",
    "import torch.optim as optim\n",
    "# import ppscore as pps\n",
    "import datetime\n",
    "import ppscore as pps\n",
    "import random\n",
    "import bokeh\n",
    "from bokeh.plotting import figure, show\n",
    "pd.set_option(\"display.max_columns\",80)\n",
    "from statsmodels.graphics.tsaplots import plot_acf,plot_pacf\n",
    "pd.set_option(\"display.max_rows\",80)\n",
    "import tslumen\n",
    "import tqdm as notebook_tqdm\n",
    "import datetime as dt\n",
    "from tslumen import HtmlReport\n",
    "import warnings\n",
    "warnings.filterwarnings('ignore')\n",
    "%matplotlib inline\n",
    "import tqdm as notebook_tqdm\n",
    "from tqdm import tqdm\n"
   ]
  },
  {
   "cell_type": "code",
   "execution_count": 2,
   "metadata": {},
   "outputs": [],
   "source": [
    "def read_data(path):\n",
    "    df = pd.read_csv(path,parse_dates = [\"Date\"])\n",
    "    df = df.sort_values(by=\"Date\").reset_index(drop=True)\n",
    "    display(df.head())\n",
    "    return df"
   ]
  },
  {
   "cell_type": "code",
   "execution_count": 41,
   "metadata": {},
   "outputs": [
    {
     "data": {
      "text/html": [
       "<div>\n",
       "<style scoped>\n",
       "    .dataframe tbody tr th:only-of-type {\n",
       "        vertical-align: middle;\n",
       "    }\n",
       "\n",
       "    .dataframe tbody tr th {\n",
       "        vertical-align: top;\n",
       "    }\n",
       "\n",
       "    .dataframe thead th {\n",
       "        text-align: right;\n",
       "    }\n",
       "</style>\n",
       "<table border=\"1\" class=\"dataframe\">\n",
       "  <thead>\n",
       "    <tr style=\"text-align: right;\">\n",
       "      <th></th>\n",
       "      <th>Date</th>\n",
       "      <th>Open</th>\n",
       "      <th>High</th>\n",
       "      <th>Low</th>\n",
       "      <th>Close</th>\n",
       "      <th>Adj Close</th>\n",
       "      <th>Volume</th>\n",
       "    </tr>\n",
       "  </thead>\n",
       "  <tbody>\n",
       "    <tr>\n",
       "      <th>0</th>\n",
       "      <td>2020-04-10</td>\n",
       "      <td>0.832005</td>\n",
       "      <td>1.313487</td>\n",
       "      <td>0.694187</td>\n",
       "      <td>0.951054</td>\n",
       "      <td>0.951054</td>\n",
       "      <td>87364276</td>\n",
       "    </tr>\n",
       "    <tr>\n",
       "      <th>1</th>\n",
       "      <td>2020-04-11</td>\n",
       "      <td>0.951054</td>\n",
       "      <td>1.049073</td>\n",
       "      <td>0.765020</td>\n",
       "      <td>0.776819</td>\n",
       "      <td>0.776819</td>\n",
       "      <td>43862444</td>\n",
       "    </tr>\n",
       "    <tr>\n",
       "      <th>2</th>\n",
       "      <td>2020-04-12</td>\n",
       "      <td>0.785448</td>\n",
       "      <td>0.956670</td>\n",
       "      <td>0.762426</td>\n",
       "      <td>0.882507</td>\n",
       "      <td>0.882507</td>\n",
       "      <td>38736897</td>\n",
       "    </tr>\n",
       "    <tr>\n",
       "      <th>3</th>\n",
       "      <td>2020-04-13</td>\n",
       "      <td>0.890760</td>\n",
       "      <td>0.891603</td>\n",
       "      <td>0.773976</td>\n",
       "      <td>0.777832</td>\n",
       "      <td>0.777832</td>\n",
       "      <td>18211285</td>\n",
       "    </tr>\n",
       "    <tr>\n",
       "      <th>4</th>\n",
       "      <td>2020-04-14</td>\n",
       "      <td>0.777832</td>\n",
       "      <td>0.796472</td>\n",
       "      <td>0.628169</td>\n",
       "      <td>0.661925</td>\n",
       "      <td>0.661925</td>\n",
       "      <td>16747614</td>\n",
       "    </tr>\n",
       "  </tbody>\n",
       "</table>\n",
       "</div>"
      ],
      "text/plain": [
       "        Date      Open      High       Low     Close  Adj Close    Volume\n",
       "0 2020-04-10  0.832005  1.313487  0.694187  0.951054   0.951054  87364276\n",
       "1 2020-04-11  0.951054  1.049073  0.765020  0.776819   0.776819  43862444\n",
       "2 2020-04-12  0.785448  0.956670  0.762426  0.882507   0.882507  38736897\n",
       "3 2020-04-13  0.890760  0.891603  0.773976  0.777832   0.777832  18211285\n",
       "4 2020-04-14  0.777832  0.796472  0.628169  0.661925   0.661925  16747614"
      ]
     },
     "metadata": {},
     "output_type": "display_data"
    }
   ],
   "source": [
    "PATH = r\"C:\\Users\\nati\\Desktop\\Implementations\\LSTM\\SOL-USD.csv\"\n",
    "df = read_data(PATH)"
   ]
  },
  {
   "cell_type": "code",
   "execution_count": 31,
   "metadata": {},
   "outputs": [
    {
     "data": {
      "text/plain": [
       "Date         0\n",
       "Open         0\n",
       "High         0\n",
       "Low          0\n",
       "Close        0\n",
       "Adj Close    0\n",
       "Volume       0\n",
       "dtype: int64"
      ]
     },
     "execution_count": 31,
     "metadata": {},
     "output_type": "execute_result"
    }
   ],
   "source": [
    "#Check for NA's\n",
    "df.isna().sum()"
   ]
  },
  {
   "cell_type": "code",
   "execution_count": 32,
   "metadata": {},
   "outputs": [
    {
     "data": {
      "text/plain": [
       "<AxesSubplot: ylabel='Close'>"
      ]
     },
     "execution_count": 32,
     "metadata": {},
     "output_type": "execute_result"
    },
    {
     "data": {
      "image/png": "[encoded data removed]",
      "text/plain": [
       "<Figure size 640x480 with 1 Axes>"
      ]
     },
     "metadata": {},
     "output_type": "display_data"
    }
   ],
   "source": [
    "sns.lineplot(df[\"Close\"])"
   ]
  },
  {
   "cell_type": "code",
   "execution_count": 33,
   "metadata": {},
   "outputs": [],
   "source": [
    "# Create features\n",
    "def create_features(df):\n",
    "    # Create a new column for the day of the week\n",
    "    if \"Date\" not in df.columns:\n",
    "        df[\"Date\"] = df.index\n",
    "    df['Date'] = pd.to_datetime(df[\"Date\"])\n",
    "    df['day_of_week'] = df['Date'].apply(lambda x: datetime.datetime.weekday(x))\n",
    "    df['month'] = pd.DatetimeIndex(df['Date']).month\n",
    "    return df.drop(columns=[\"Date\"])\n"
   ]
  },
  {
   "cell_type": "code",
   "execution_count": 34,
   "metadata": {},
   "outputs": [],
   "source": [
    "#Function to create Squences of Data for LSTM model\n",
    "def create_sequences(input_data:pd.DataFrame,target_column,sequence_length):\n",
    "    sequences = []\n",
    "    data_size = len(input_data)\n",
    "    for sample in tqdm(range(data_size - sequence_length)):\n",
    "        #Sliding window for sequences\n",
    "        sequence = input_data[sample:sample+sequence_length].values\n",
    "        #Position of label\n",
    "        label_position = sample + sequence_length\n",
    "        label = input_data.iloc[label_position][target_column]\n",
    "        #Append to sequences\n",
    "        sequences.append((sequence,label))\n",
    "    return sequences"
   ]
  },
  {
   "cell_type": "code",
   "execution_count": 35,
   "metadata": {},
   "outputs": [],
   "source": [
    "def split_data(train_ratio,val_ratio,data):\n",
    "    total = len(data)\n",
    "    train = round(train_ratio*total)\n",
    "    val = round(train + val_ratio*total)\n",
    "    train_df = df[:train]\n",
    "    validation_df = df[train:val]\n",
    "    test_df = df[val:]\n",
    "\n",
    "    return train_df,validation_df,test_df"
   ]
  },
  {
   "cell_type": "code",
   "execution_count": 42,
   "metadata": {},
   "outputs": [],
   "source": [
    "def scale_data(df):\n",
    "    from sklearn.preprocessing import StandardScaler\n",
    "    scaler = StandardScaler()\n",
    "    data = scaler.fit_transform(df)\n",
    "    return pd.DataFrame(data,columns=df.columns)"
   ]
  },
  {
   "cell_type": "code",
   "execution_count": 144,
   "metadata": {},
   "outputs": [],
   "source": [
    "train_df,val_df,test_df = split_data(data = df,train_ratio = 0.8,val_ratio = 0.1)\n",
    "train_df,val_df,test_df = create_features(train_df),create_features(val_df),create_features(test_df)\n",
    "train_df,val_df,test_df = scale_data(train_df),scale_data(val_df),scale_data(test_df)"
   ]
  },
  {
   "cell_type": "code",
   "execution_count": 145,
   "metadata": {},
   "outputs": [
    {
     "data": {
      "text/html": [
       "<div>\n",
       "<style scoped>\n",
       "    .dataframe tbody tr th:only-of-type {\n",
       "        vertical-align: middle;\n",
       "    }\n",
       "\n",
       "    .dataframe tbody tr th {\n",
       "        vertical-align: top;\n",
       "    }\n",
       "\n",
       "    .dataframe thead th {\n",
       "        text-align: right;\n",
       "    }\n",
       "</style>\n",
       "<table border=\"1\" class=\"dataframe\">\n",
       "  <thead>\n",
       "    <tr style=\"text-align: right;\">\n",
       "      <th></th>\n",
       "      <th>Open</th>\n",
       "      <th>High</th>\n",
       "      <th>Low</th>\n",
       "      <th>Close</th>\n",
       "      <th>Adj Close</th>\n",
       "      <th>Volume</th>\n",
       "      <th>day_of_week</th>\n",
       "      <th>month</th>\n",
       "    </tr>\n",
       "  </thead>\n",
       "  <tbody>\n",
       "    <tr>\n",
       "      <th>0</th>\n",
       "      <td>-0.834144</td>\n",
       "      <td>-0.833558</td>\n",
       "      <td>-0.832587</td>\n",
       "      <td>-0.833606</td>\n",
       "      <td>-0.833606</td>\n",
       "      <td>-0.667916</td>\n",
       "      <td>0.499622</td>\n",
       "      <td>-0.730583</td>\n",
       "    </tr>\n",
       "    <tr>\n",
       "      <th>1</th>\n",
       "      <td>-0.832334</td>\n",
       "      <td>-0.837416</td>\n",
       "      <td>-0.831457</td>\n",
       "      <td>-0.836258</td>\n",
       "      <td>-0.836258</td>\n",
       "      <td>-0.695175</td>\n",
       "      <td>0.999849</td>\n",
       "      <td>-0.730583</td>\n",
       "    </tr>\n",
       "    <tr>\n",
       "      <th>2</th>\n",
       "      <td>-0.834851</td>\n",
       "      <td>-0.838765</td>\n",
       "      <td>-0.831499</td>\n",
       "      <td>-0.834649</td>\n",
       "      <td>-0.834649</td>\n",
       "      <td>-0.698387</td>\n",
       "      <td>1.500076</td>\n",
       "      <td>-0.730583</td>\n",
       "    </tr>\n",
       "    <tr>\n",
       "      <th>3</th>\n",
       "      <td>-0.833251</td>\n",
       "      <td>-0.839714</td>\n",
       "      <td>-0.831314</td>\n",
       "      <td>-0.836242</td>\n",
       "      <td>-0.836242</td>\n",
       "      <td>-0.711249</td>\n",
       "      <td>-1.501286</td>\n",
       "      <td>-0.730583</td>\n",
       "    </tr>\n",
       "    <tr>\n",
       "      <th>4</th>\n",
       "      <td>-0.834967</td>\n",
       "      <td>-0.841102</td>\n",
       "      <td>-0.833639</td>\n",
       "      <td>-0.838006</td>\n",
       "      <td>-0.838006</td>\n",
       "      <td>-0.712166</td>\n",
       "      <td>-1.001059</td>\n",
       "      <td>-0.730583</td>\n",
       "    </tr>\n",
       "    <tr>\n",
       "      <th>...</th>\n",
       "      <td>...</td>\n",
       "      <td>...</td>\n",
       "      <td>...</td>\n",
       "      <td>...</td>\n",
       "      <td>...</td>\n",
       "      <td>...</td>\n",
       "      <td>...</td>\n",
       "      <td>...</td>\n",
       "    </tr>\n",
       "    <tr>\n",
       "      <th>822</th>\n",
       "      <td>-0.289083</td>\n",
       "      <td>-0.317318</td>\n",
       "      <td>-0.312167</td>\n",
       "      <td>-0.338792</td>\n",
       "      <td>-0.338792</td>\n",
       "      <td>-0.139763</td>\n",
       "      <td>-1.501286</td>\n",
       "      <td>0.184860</td>\n",
       "    </tr>\n",
       "    <tr>\n",
       "      <th>823</th>\n",
       "      <td>-0.338149</td>\n",
       "      <td>-0.349302</td>\n",
       "      <td>-0.321409</td>\n",
       "      <td>-0.349537</td>\n",
       "      <td>-0.349537</td>\n",
       "      <td>-0.148429</td>\n",
       "      <td>-1.001059</td>\n",
       "      <td>0.184860</td>\n",
       "    </tr>\n",
       "    <tr>\n",
       "      <th>824</th>\n",
       "      <td>-0.349047</td>\n",
       "      <td>-0.342905</td>\n",
       "      <td>-0.334133</td>\n",
       "      <td>-0.316765</td>\n",
       "      <td>-0.316765</td>\n",
       "      <td>0.100169</td>\n",
       "      <td>-0.500832</td>\n",
       "      <td>0.184860</td>\n",
       "    </tr>\n",
       "    <tr>\n",
       "      <th>825</th>\n",
       "      <td>-0.316152</td>\n",
       "      <td>-0.309616</td>\n",
       "      <td>-0.306529</td>\n",
       "      <td>-0.283330</td>\n",
       "      <td>-0.283330</td>\n",
       "      <td>0.104572</td>\n",
       "      <td>-0.000605</td>\n",
       "      <td>0.184860</td>\n",
       "    </tr>\n",
       "    <tr>\n",
       "      <th>826</th>\n",
       "      <td>-0.282714</td>\n",
       "      <td>-0.285830</td>\n",
       "      <td>-0.259414</td>\n",
       "      <td>-0.278641</td>\n",
       "      <td>-0.278641</td>\n",
       "      <td>0.070790</td>\n",
       "      <td>0.499622</td>\n",
       "      <td>0.184860</td>\n",
       "    </tr>\n",
       "  </tbody>\n",
       "</table>\n",
       "<p>827 rows × 8 columns</p>\n",
       "</div>"
      ],
      "text/plain": [
       "         Open      High       Low     Close  Adj Close    Volume  day_of_week  \\\n",
       "0   -0.834144 -0.833558 -0.832587 -0.833606  -0.833606 -0.667916     0.499622   \n",
       "1   -0.832334 -0.837416 -0.831457 -0.836258  -0.836258 -0.695175     0.999849   \n",
       "2   -0.834851 -0.838765 -0.831499 -0.834649  -0.834649 -0.698387     1.500076   \n",
       "3   -0.833251 -0.839714 -0.831314 -0.836242  -0.836242 -0.711249    -1.501286   \n",
       "4   -0.834967 -0.841102 -0.833639 -0.838006  -0.838006 -0.712166    -1.001059   \n",
       "..        ...       ...       ...       ...        ...       ...          ...   \n",
       "822 -0.289083 -0.317318 -0.312167 -0.338792  -0.338792 -0.139763    -1.501286   \n",
       "823 -0.338149 -0.349302 -0.321409 -0.349537  -0.349537 -0.148429    -1.001059   \n",
       "824 -0.349047 -0.342905 -0.334133 -0.316765  -0.316765  0.100169    -0.500832   \n",
       "825 -0.316152 -0.309616 -0.306529 -0.283330  -0.283330  0.104572    -0.000605   \n",
       "826 -0.282714 -0.285830 -0.259414 -0.278641  -0.278641  0.070790     0.499622   \n",
       "\n",
       "        month  \n",
       "0   -0.730583  \n",
       "1   -0.730583  \n",
       "2   -0.730583  \n",
       "3   -0.730583  \n",
       "4   -0.730583  \n",
       "..        ...  \n",
       "822  0.184860  \n",
       "823  0.184860  \n",
       "824  0.184860  \n",
       "825  0.184860  \n",
       "826  0.184860  \n",
       "\n",
       "[827 rows x 8 columns]"
      ]
     },
     "execution_count": 145,
     "metadata": {},
     "output_type": "execute_result"
    }
   ],
   "source": [
    "train_df"
   ]
  },
  {
   "cell_type": "code",
   "execution_count": 146,
   "metadata": {},
   "outputs": [
    {
     "name": "stderr",
     "output_type": "stream",
     "text": [
      "100%|██████████| 820/820 [00:00<00:00, 20001.22it/s]\n",
      "100%|██████████| 96/96 [00:00<00:00, 23879.33it/s]\n",
      "100%|██████████| 97/97 [00:00<00:00, 24251.76it/s]\n"
     ]
    }
   ],
   "source": [
    "SEQUENCE_LENGTH = 7\n",
    "TARGET = \"Close\"\n",
    "\n",
    "train_sequences = create_sequences(train_df,TARGET,SEQUENCE_LENGTH)\n",
    "validation_sequences = create_sequences(val_df,TARGET,SEQUENCE_LENGTH)\n",
    "test_sequences = create_sequences(test_df,TARGET,SEQUENCE_LENGTH)\n",
    "\n"
   ]
  },
  {
   "attachments": {},
   "cell_type": "markdown",
   "metadata": {},
   "source": [
    "# Pytorch Dataset"
   ]
  },
  {
   "cell_type": "code",
   "execution_count": 147,
   "metadata": {},
   "outputs": [],
   "source": [
    "from torch.utils.data import Dataset,DataLoader\n",
    "\n",
    "class SOLDataset(Dataset):\n",
    "    def __init__(self,sequences):\n",
    "        self.sequences = sequences\n",
    "\n",
    "    def __len__(self):\n",
    "        return len(self.sequences)\n",
    "\n",
    "    def __getitem__(self,idx):\n",
    "        sequence,label = self.sequences[idx]\n",
    "        seq = torch.tensor(sequence.astype(float)).float()\n",
    "        label = torch.tensor(label).float()\n",
    "        \n",
    "        return seq,label\n",
    "\n",
    "train_df = SOLDataset(train_sequences)\n",
    "train_dataloader = DataLoader(train_df,batch_size=50,shuffle=False)\n",
    "validation_df = SOLDataset(validation_sequences)\n",
    "validation_dataloader = DataLoader(validation_df,batch_size=50,shuffle=False)\n",
    "test_df = SOLDataset(test_sequences)\n",
    "test_dataloader = DataLoader(test_df,batch_size=1,shuffle=False)\n",
    "\n"
   ]
  },
  {
   "cell_type": "code",
   "execution_count": 130,
   "metadata": {},
   "outputs": [
    {
     "name": "stdout",
     "output_type": "stream",
     "text": [
      "torch.Size([50, 14, 8])\n",
      "torch.Size([50])\n"
     ]
    }
   ],
   "source": [
    "seq,label = next(iter(train_dataloader))\n",
    "print(seq.size())\n",
    "print(label.size())"
   ]
  },
  {
   "attachments": {},
   "cell_type": "markdown",
   "metadata": {},
   "source": [
    "# LSTM Model"
   ]
  },
  {
   "cell_type": "code",
   "execution_count": 148,
   "metadata": {},
   "outputs": [],
   "source": [
    "class LSTMPredictor(nn.Module):\n",
    "    def __init__(self,n_features,n_hidden,n_layers):\n",
    "        super(LSTMPredictor,self).__init__()\n",
    "        self.n_hidden = n_hidden\n",
    "        self.n_layers = n_layers\n",
    "        self.n_features = n_features\n",
    "        \n",
    "        self.lstm = nn.LSTM(\n",
    "            input_size = n_features,\n",
    "            hidden_size = n_hidden,\n",
    "            batch_first = True,\n",
    "            num_layers = n_layers , \n",
    "            dropout = 0.5\n",
    "        \n",
    "        )\n",
    "        self.regressor = nn.Linear(n_hidden,1)\n",
    "\n",
    "    \n",
    "    def forward(self,x):\n",
    "        #Output is  output(samples in batch,seq_len,D*hidden_size) ,h_n(num_layers,batch num,hidden_size) , cn(num_layers,hidden_size)\n",
    "        _ , (hn,cn) = self.lstm(x) \n",
    "        output = self.regressor(hn[-1,:,:])\n",
    "        return output"
   ]
  },
  {
   "cell_type": "code",
   "execution_count": 149,
   "metadata": {},
   "outputs": [],
   "source": [
    "class GRUModel(nn.Module):\n",
    "    def __init__(self,num_features,num_layers,num_hidden,dropout):\n",
    "        super(GRUModel,self).__init__()\n",
    "        self.gru = nn.GRU(\n",
    "            input_size = num_features,\n",
    "            num_layers = num_layers ,\n",
    "            hidden_size = num_hidden ,\n",
    "            bias = True , \n",
    "            batch_first = True , \n",
    "            dropout = dropout\n",
    "        )\n",
    "\n",
    "        self.regressor = nn.Linear(num_hidden,1)\n",
    "\n",
    "    def forward(self,x):\n",
    "        out,hn = self.gru(x)\n",
    "        output = hn[-1,:,:]\n",
    "        output = self.regressor(output)\n",
    "        return output\n"
   ]
  },
  {
   "cell_type": "code",
   "execution_count": 170,
   "metadata": {},
   "outputs": [],
   "source": [
    "class RNNVanilla(nn.Module):\n",
    "    def __init__(self,num_layers,num_hidden,num_features):\n",
    "        super(RNNVanilla,self).__init__()\n",
    "        self.rnn = nn.RNN(input_size = num_features,\n",
    "                          hidden_size = num_hidden,\n",
    "                          num_layers = num_layers,\n",
    "                          batch_first = True,\n",
    "                          bias = True,\n",
    "                          dropout = 0.3)\n",
    "        self.regressor = nn.Linear(num_hidden,1)\n",
    "\n",
    "    def forward(self,x):\n",
    "        output,hn = self.rnn(x)\n",
    "        out = hn[-1,:,:]\n",
    "        out = self.regressor(out)\n",
    "        return out\n"
   ]
  },
  {
   "cell_type": "code",
   "execution_count": 171,
   "metadata": {},
   "outputs": [],
   "source": [
    "def train_loop(data_loader, model,device,loss_fn,optimizer,print_every_n=200):\n",
    "    model.train()\n",
    "    size = len(data_loader.dataset)\n",
    "    num_batches = len(data_loader)\n",
    "    \n",
    "    train_loss=0\n",
    "\n",
    "    for batch,(X,y) in enumerate(data_loader):\n",
    "        # Setting to Device\n",
    "        X = X.to(device)\n",
    "        y = y.to(device)\n",
    "        # Predict\n",
    "        pred = model(X)\n",
    "        # Calculate Loss\n",
    "        loss = loss_fn(pred,y)\n",
    "        # Add loss\n",
    "        train_loss += loss\n",
    "        # Backpropogation\n",
    "        optimizer.zero_grad()\n",
    "        loss.backward()\n",
    "        optimizer.step()\n",
    "\n",
    "    train_loss /= size  \n",
    "    return train_loss\n",
    "\n",
    "def validation_loop(data_loader,model,device,loss_fn):\n",
    "    model.eval()\n",
    "    size=len(data_loader.dataset)\n",
    "    num_batches = len(data_loader)\n",
    "    val_loss=0\n",
    "    with torch.no_grad():\n",
    "        for X,y in data_loader:\n",
    "            X = X.to(device)\n",
    "            y = y.to(device)\n",
    "            pred = model(X)\n",
    "            val_loss += loss_fn(pred,y).item()\n",
    "        \n",
    "    val_loss /= size\n",
    "    print(f'MSELoss =  {val_loss:2f}')\n",
    "    return val_loss"
   ]
  },
  {
   "attachments": {},
   "cell_type": "markdown",
   "metadata": {},
   "source": [
    "# Model 1 - LSTM"
   ]
  },
  {
   "cell_type": "code",
   "execution_count": 106,
   "metadata": {},
   "outputs": [],
   "source": [
    "device = torch.device(\"cuda\" if torch.cuda.is_available() else \"cpu\")\n",
    "\n",
    "learning_rate = 0.005\n",
    "\n",
    "model = LSTMPredictor(8,32,1)\n",
    "model.to(device)\n",
    "\n",
    "criterion = nn.MSELoss()\n",
    "criterion.to(device)\n",
    "optimizer = optim.Adam(model.parameters(), lr=learning_rate)\n"
   ]
  },
  {
   "attachments": {},
   "cell_type": "markdown",
   "metadata": {},
   "source": [
    "# Model 2 - GRU"
   ]
  },
  {
   "cell_type": "code",
   "execution_count": 163,
   "metadata": {},
   "outputs": [],
   "source": [
    "device = torch.device(\"cuda\" if torch.cuda.is_available() else \"cpu\")\n",
    "\n",
    "learning_rate = 0.005\n",
    "\n",
    "model = GRUModel(num_features=8,num_layers=2,num_hidden=16,dropout=0.3)\n",
    "model.to(device)\n",
    "\n",
    "criterion = nn.MSELoss()\n",
    "criterion.to(device)\n",
    "optimizer = optim.Adam(model.parameters(), lr=learning_rate)"
   ]
  },
  {
   "attachments": {},
   "cell_type": "markdown",
   "metadata": {},
   "source": [
    "# Model 3 - Vanilla RNN"
   ]
  },
  {
   "cell_type": "code",
   "execution_count": 186,
   "metadata": {},
   "outputs": [],
   "source": [
    "device = torch.device(\"cuda\" if torch.cuda.is_available() else \"cpu\")\n",
    "\n",
    "learning_rate = 0.01\n",
    "\n",
    "model = RNNVanilla(num_features=8,num_layers=1,num_hidden=64)\n",
    "model.to(device)\n",
    "\n",
    "criterion = nn.MSELoss()\n",
    "criterion.to(device)\n",
    "optimizer = optim.Adam(model.parameters(), lr=learning_rate)"
   ]
  },
  {
   "cell_type": "code",
   "execution_count": 187,
   "metadata": {},
   "outputs": [
    {
     "name": "stdout",
     "output_type": "stream",
     "text": [
      "MSELoss =  0.023047\n",
      "MSELoss =  0.025169\n",
      "MSELoss =  0.022421\n",
      "MSELoss =  0.018352\n",
      "MSELoss =  0.036719\n",
      "MSELoss =  0.019037\n",
      "MSELoss =  0.030191\n",
      "MSELoss =  0.017809\n",
      "MSELoss =  0.020564\n",
      "MSELoss =  0.031395\n",
      "MSELoss =  0.018962\n",
      "MSELoss =  0.024906\n",
      "MSELoss =  0.019732\n",
      "MSELoss =  0.024114\n",
      "MSELoss =  0.021511\n",
      "MSELoss =  0.029601\n",
      "MSELoss =  0.025404\n",
      "MSELoss =  0.019987\n",
      "MSELoss =  0.024367\n",
      "MSELoss =  0.026520\n",
      "MSELoss =  0.018633\n",
      "MSELoss =  0.019764\n",
      "MSELoss =  0.020567\n",
      "MSELoss =  0.026510\n",
      "MSELoss =  0.025324\n",
      "MSELoss =  0.019939\n",
      "MSELoss =  0.023554\n",
      "MSELoss =  0.017599\n",
      "MSELoss =  0.020919\n",
      "MSELoss =  0.026608\n",
      "MSELoss =  0.020748\n",
      "MSELoss =  0.020779\n",
      "MSELoss =  0.024897\n",
      "MSELoss =  0.023906\n",
      "MSELoss =  0.019577\n",
      "MSELoss =  0.026081\n",
      "MSELoss =  0.019794\n",
      "MSELoss =  0.024068\n",
      "MSELoss =  0.020925\n",
      "MSELoss =  0.031256\n",
      "MSELoss =  0.024412\n",
      "MSELoss =  0.024193\n",
      "MSELoss =  0.017667\n",
      "MSELoss =  0.023687\n",
      "MSELoss =  0.025791\n",
      "MSELoss =  0.019847\n",
      "MSELoss =  0.026718\n",
      "MSELoss =  0.021319\n",
      "MSELoss =  0.020920\n",
      "MSELoss =  0.024281\n",
      "MSELoss =  0.020337\n",
      "MSELoss =  0.024334\n",
      "MSELoss =  0.022733\n",
      "MSELoss =  0.019669\n",
      "MSELoss =  0.028724\n",
      "MSELoss =  0.019251\n",
      "MSELoss =  0.026252\n",
      "MSELoss =  0.021497\n",
      "MSELoss =  0.018156\n",
      "MSELoss =  0.028171\n",
      "MSELoss =  0.020061\n",
      "MSELoss =  0.024716\n",
      "MSELoss =  0.021239\n",
      "MSELoss =  0.021284\n",
      "MSELoss =  0.027540\n",
      "MSELoss =  0.019237\n",
      "MSELoss =  0.022979\n",
      "MSELoss =  0.020375\n",
      "MSELoss =  0.027763\n",
      "MSELoss =  0.020269\n",
      "MSELoss =  0.023276\n",
      "MSELoss =  0.017997\n",
      "MSELoss =  0.026473\n",
      "MSELoss =  0.022726\n",
      "MSELoss =  0.022801\n",
      "MSELoss =  0.019524\n",
      "MSELoss =  0.028541\n",
      "MSELoss =  0.019810\n",
      "MSELoss =  0.023290\n",
      "MSELoss =  0.020537\n",
      "MSELoss =  0.028260\n",
      "MSELoss =  0.019296\n",
      "MSELoss =  0.033374\n",
      "MSELoss =  0.022618\n",
      "MSELoss =  0.022044\n",
      "MSELoss =  0.022810\n",
      "MSELoss =  0.025114\n",
      "MSELoss =  0.017355\n",
      "MSELoss =  0.033263\n",
      "MSELoss =  0.017683\n",
      "MSELoss =  0.025549\n",
      "MSELoss =  0.020143\n",
      "MSELoss =  0.024570\n",
      "MSELoss =  0.019118\n",
      "MSELoss =  0.025707\n",
      "MSELoss =  0.022263\n",
      "MSELoss =  0.021281\n",
      "MSELoss =  0.018852\n",
      "MSELoss =  0.019968\n",
      "MSELoss =  0.019692\n",
      "MSELoss =  0.022727\n",
      "MSELoss =  0.023197\n",
      "MSELoss =  0.030634\n",
      "MSELoss =  0.019028\n",
      "MSELoss =  0.025720\n",
      "MSELoss =  0.018765\n",
      "MSELoss =  0.029232\n",
      "MSELoss =  0.022951\n",
      "MSELoss =  0.019369\n",
      "MSELoss =  0.025257\n",
      "MSELoss =  0.018268\n",
      "MSELoss =  0.038166\n",
      "MSELoss =  0.020562\n",
      "MSELoss =  0.020999\n",
      "MSELoss =  0.022752\n",
      "MSELoss =  0.027354\n",
      "MSELoss =  0.020218\n",
      "MSELoss =  0.027367\n",
      "MSELoss =  0.018641\n",
      "MSELoss =  0.022235\n",
      "MSELoss =  0.024446\n",
      "MSELoss =  0.024389\n",
      "MSELoss =  0.021269\n",
      "MSELoss =  0.028727\n",
      "MSELoss =  0.023897\n",
      "MSELoss =  0.023732\n",
      "MSELoss =  0.025206\n",
      "MSELoss =  0.033467\n",
      "MSELoss =  0.031873\n",
      "MSELoss =  0.032712\n",
      "MSELoss =  0.046825\n",
      "MSELoss =  0.042064\n",
      "MSELoss =  0.047667\n",
      "MSELoss =  0.066246\n",
      "MSELoss =  0.087863\n",
      "MSELoss =  0.096991\n",
      "MSELoss =  0.094622\n",
      "MSELoss =  0.083612\n",
      "MSELoss =  0.042631\n",
      "MSELoss =  0.022291\n",
      "MSELoss =  0.018569\n",
      "MSELoss =  0.020739\n",
      "MSELoss =  0.023246\n",
      "MSELoss =  0.020638\n",
      "MSELoss =  0.019687\n",
      "MSELoss =  0.020757\n",
      "MSELoss =  0.019786\n",
      "MSELoss =  0.019232\n",
      "MSELoss =  0.019921\n",
      "MSELoss =  0.020919\n",
      "MSELoss =  0.022990\n",
      "MSELoss =  0.023866\n",
      "MSELoss =  0.024817\n",
      "MSELoss =  0.020783\n",
      "MSELoss =  0.020268\n",
      "MSELoss =  0.019930\n",
      "MSELoss =  0.022946\n",
      "MSELoss =  0.026574\n",
      "MSELoss =  0.027428\n",
      "MSELoss =  0.022527\n",
      "MSELoss =  0.020755\n",
      "MSELoss =  0.019573\n",
      "MSELoss =  0.019953\n",
      "MSELoss =  0.019705\n",
      "MSELoss =  0.020829\n",
      "MSELoss =  0.021543\n",
      "MSELoss =  0.023755\n",
      "MSELoss =  0.023793\n",
      "MSELoss =  0.022439\n",
      "MSELoss =  0.020528\n",
      "MSELoss =  0.020820\n",
      "MSELoss =  0.020678\n",
      "MSELoss =  0.024071\n",
      "MSELoss =  0.025535\n",
      "MSELoss =  0.024152\n",
      "MSELoss =  0.020873\n",
      "MSELoss =  0.021071\n",
      "MSELoss =  0.020210\n",
      "MSELoss =  0.021992\n",
      "MSELoss =  0.024909\n",
      "MSELoss =  0.025370\n",
      "MSELoss =  0.021858\n",
      "MSELoss =  0.021192\n",
      "MSELoss =  0.020271\n",
      "MSELoss =  0.021043\n",
      "MSELoss =  0.022634\n",
      "MSELoss =  0.025634\n",
      "MSELoss =  0.024074\n"
     ]
    }
   ],
   "source": [
    "import time\n",
    "results = []\n",
    "# define the number of epochs and early stopping patience\n",
    "epochs = 500\n",
    "patience = 100\n",
    "best_loss = np.inf\n",
    "\n",
    "for epoch in range(epochs):\n",
    "    start_time = time.time()\n",
    "    train_loss = train_loop(train_dataloader, model, device, criterion, optimizer)\n",
    "    total_train_time = (time.time() - start_time)/60\n",
    "    val_loss = validation_loop(validation_dataloader, model, device, criterion)\n",
    "\n",
    "    results.append({'train_loss':train_loss.detach().cpu().numpy(),'val_loss':val_loss})\n",
    "    # if the validation loss is the best seen so far, update the best loss and reset the early stopping counter\n",
    "    if val_loss < best_loss:\n",
    "        # torch.save(model.state_dict(), f'model_LSTM{epoch}.pth')\n",
    "        best_loss = val_loss\n",
    "        early_stopping_counter = 0\n",
    "    # otherwise, increment the early stopping counter\n",
    "    else:\n",
    "        early_stopping_counter += 1     \n",
    "    # if the early stopping counter has reached the patience, stop training\n",
    "    if early_stopping_counter == patience:\n",
    "        break\n"
   ]
  },
  {
   "cell_type": "code",
   "execution_count": null,
   "metadata": {},
   "outputs": [],
   "source": [
    "test_sequences"
   ]
  },
  {
   "cell_type": "code",
   "execution_count": 188,
   "metadata": {},
   "outputs": [],
   "source": [
    "results = pd.DataFrame(results)"
   ]
  },
  {
   "cell_type": "code",
   "execution_count": 189,
   "metadata": {},
   "outputs": [
    {
     "data": {
      "text/plain": [
       "<AxesSubplot: >"
      ]
     },
     "execution_count": 189,
     "metadata": {},
     "output_type": "execute_result"
    },
    {
     "data": {
      "image/png": "[encoded data removed]",
      "text/plain": [
       "<Figure size 640x480 with 1 Axes>"
      ]
     },
     "metadata": {},
     "output_type": "display_data"
    }
   ],
   "source": [
    "results.plot()"
   ]
  },
  {
   "cell_type": "code",
   "execution_count": 167,
   "metadata": {},
   "outputs": [
    {
     "name": "stdout",
     "output_type": "stream",
     "text": [
      "tensor([[1.7707]], device='cuda:0')\n",
      "tensor([[1.6997]], device='cuda:0')\n",
      "tensor([[1.8556]], device='cuda:0')\n",
      "tensor([[2.0922]], device='cuda:0')\n",
      "tensor([[2.0420]], device='cuda:0')\n",
      "tensor([[2.0051]], device='cuda:0')\n",
      "tensor([[1.9669]], device='cuda:0')\n",
      "tensor([[1.6207]], device='cuda:0')\n",
      "tensor([[1.3440]], device='cuda:0')\n",
      "tensor([[1.0034]], device='cuda:0')\n",
      "tensor([[0.7687]], device='cuda:0')\n",
      "tensor([[0.5746]], device='cuda:0')\n",
      "tensor([[0.0847]], device='cuda:0')\n",
      "tensor([[-0.3570]], device='cuda:0')\n",
      "tensor([[-0.4366]], device='cuda:0')\n",
      "tensor([[-0.4917]], device='cuda:0')\n",
      "tensor([[-0.5342]], device='cuda:0')\n",
      "tensor([[-0.5742]], device='cuda:0')\n",
      "tensor([[-0.6334]], device='cuda:0')\n",
      "tensor([[-0.6846]], device='cuda:0')\n",
      "tensor([[-0.7224]], device='cuda:0')\n",
      "tensor([[-0.7149]], device='cuda:0')\n",
      "tensor([[-0.6614]], device='cuda:0')\n",
      "tensor([[-0.6038]], device='cuda:0')\n",
      "tensor([[-0.5564]], device='cuda:0')\n",
      "tensor([[-0.5398]], device='cuda:0')\n",
      "tensor([[-0.5428]], device='cuda:0')\n",
      "tensor([[-0.5529]], device='cuda:0')\n",
      "tensor([[-0.5480]], device='cuda:0')\n",
      "tensor([[-0.5444]], device='cuda:0')\n",
      "tensor([[-0.5474]], device='cuda:0')\n",
      "tensor([[-0.5648]], device='cuda:0')\n",
      "tensor([[-0.6021]], device='cuda:0')\n",
      "tensor([[-0.5957]], device='cuda:0')\n",
      "tensor([[-0.5621]], device='cuda:0')\n",
      "tensor([[-0.5494]], device='cuda:0')\n",
      "tensor([[-0.5481]], device='cuda:0')\n",
      "tensor([[-0.5471]], device='cuda:0')\n",
      "tensor([[-0.5533]], device='cuda:0')\n",
      "tensor([[-0.5891]], device='cuda:0')\n",
      "tensor([[-0.6144]], device='cuda:0')\n",
      "tensor([[-0.6115]], device='cuda:0')\n",
      "tensor([[-0.5698]], device='cuda:0')\n",
      "tensor([[-0.5355]], device='cuda:0')\n",
      "tensor([[-0.5644]], device='cuda:0')\n",
      "tensor([[-0.6093]], device='cuda:0')\n",
      "tensor([[-0.6655]], device='cuda:0')\n",
      "tensor([[-0.7067]], device='cuda:0')\n",
      "tensor([[-0.7328]], device='cuda:0')\n",
      "tensor([[-0.7471]], device='cuda:0')\n",
      "tensor([[-0.7590]], device='cuda:0')\n",
      "tensor([[-0.7676]], device='cuda:0')\n",
      "tensor([[-0.7771]], device='cuda:0')\n",
      "tensor([[-0.7885]], device='cuda:0')\n",
      "tensor([[-0.7899]], device='cuda:0')\n",
      "tensor([[-0.7929]], device='cuda:0')\n",
      "tensor([[-0.8012]], device='cuda:0')\n",
      "tensor([[-0.8111]], device='cuda:0')\n",
      "tensor([[-0.8182]], device='cuda:0')\n",
      "tensor([[-0.8223]], device='cuda:0')\n",
      "tensor([[-0.8199]], device='cuda:0')\n",
      "tensor([[-0.8139]], device='cuda:0')\n",
      "tensor([[-0.7999]], device='cuda:0')\n",
      "tensor([[-0.7727]], device='cuda:0')\n",
      "tensor([[-0.7395]], device='cuda:0')\n",
      "tensor([[-0.7034]], device='cuda:0')\n",
      "tensor([[-0.6589]], device='cuda:0')\n",
      "tensor([[-0.6242]], device='cuda:0')\n",
      "tensor([[-0.4676]], device='cuda:0')\n",
      "tensor([[-0.3896]], device='cuda:0')\n",
      "tensor([[-0.3437]], device='cuda:0')\n",
      "tensor([[-0.2725]], device='cuda:0')\n",
      "tensor([[-0.1661]], device='cuda:0')\n",
      "tensor([[0.1189]], device='cuda:0')\n",
      "tensor([[0.3125]], device='cuda:0')\n",
      "tensor([[0.4370]], device='cuda:0')\n",
      "tensor([[0.4369]], device='cuda:0')\n",
      "tensor([[0.4247]], device='cuda:0')\n",
      "tensor([[0.4444]], device='cuda:0')\n",
      "tensor([[0.5995]], device='cuda:0')\n",
      "tensor([[0.7433]], device='cuda:0')\n",
      "tensor([[0.8014]], device='cuda:0')\n",
      "tensor([[0.8252]], device='cuda:0')\n",
      "tensor([[0.7537]], device='cuda:0')\n",
      "tensor([[0.8342]], device='cuda:0')\n",
      "tensor([[0.8730]], device='cuda:0')\n",
      "tensor([[0.8661]], device='cuda:0')\n",
      "tensor([[0.8837]], device='cuda:0')\n",
      "tensor([[1.0002]], device='cuda:0')\n",
      "tensor([[0.9679]], device='cuda:0')\n",
      "tensor([[0.9165]], device='cuda:0')\n",
      "tensor([[0.9581]], device='cuda:0')\n",
      "tensor([[0.9724]], device='cuda:0')\n",
      "tensor([[0.9483]], device='cuda:0')\n",
      "tensor([[0.9289]], device='cuda:0')\n",
      "tensor([[0.9425]], device='cuda:0')\n",
      "tensor([[0.8637]], device='cuda:0')\n",
      "MSELoss =  0.262385\n"
     ]
    }
   ],
   "source": [
    "GT = []\n",
    "PREDS = []\n",
    "size=len(test_dataloader.dataset)\n",
    "num_batches = len(test_dataloader)\n",
    "test_loss=0\n",
    "model.eval()\n",
    "with torch.no_grad():\n",
    "    for X,y in test_dataloader:\n",
    "        # print(y)\n",
    "        X = X.to(device)\n",
    "        y = y.to(device)\n",
    "        pred = model(X)\n",
    "        print(pred)\n",
    "        PREDS.append(pred.detach())\n",
    "        GT.append(y.detach())\n",
    "        test_loss += criterion(pred,y).item()\n",
    "    \n",
    "    test_loss /= size\n",
    "    print(f'MSELoss =  {test_loss:2f}')\n"
   ]
  },
  {
   "cell_type": "code",
   "execution_count": 168,
   "metadata": {},
   "outputs": [],
   "source": [
    "GT_T = []\n",
    "for item in GT:\n",
    "    for num in item:\n",
    "        GT_T.append(num.detach().cpu().item())\n",
    "\n",
    "PREDS_T = []\n",
    "for item in PREDS:\n",
    "    for num in item:\n",
    "        PREDS_T.append(num.detach().cpu().item())\n"
   ]
  },
  {
   "cell_type": "code",
   "execution_count": 93,
   "metadata": {},
   "outputs": [
    {
     "data": {
      "text/plain": [
       "[<matplotlib.lines.Line2D at 0x1d1af05b220>]"
      ]
     },
     "execution_count": 93,
     "metadata": {},
     "output_type": "execute_result"
    },
    {
     "data": {
      "image/png": "[encoded data removed]",
      "text/plain": [
       "<Figure size 640x480 with 1 Axes>"
      ]
     },
     "metadata": {},
     "output_type": "display_data"
    }
   ],
   "source": [
    "plt.plot(PREDS_T)"
   ]
  },
  {
   "cell_type": "code",
   "execution_count": null,
   "metadata": {},
   "outputs": [],
   "source": [
    "PREDS_T"
   ]
  },
  {
   "cell_type": "code",
   "execution_count": null,
   "metadata": {},
   "outputs": [],
   "source": [
    "len(GT_T)"
   ]
  },
  {
   "cell_type": "code",
   "execution_count": 169,
   "metadata": {},
   "outputs": [
    {
     "data": {
      "image/png": "[encoded data removed]",
      "text/plain": [
       "<Figure size 640x480 with 1 Axes>"
      ]
     },
     "metadata": {},
     "output_type": "display_data"
    }
   ],
   "source": [
    "plt.plot(GT_T,label=\"Ground Truth\")\n",
    "plt.plot(PREDS_T,label = \"Predictions\")\n",
    "plt.legend()\n",
    "plt.show()\n"
   ]
  }
 ],
 "metadata": {
  "kernelspec": {
   "display_name": "ImplementationsVenv",
   "language": "python",
   "name": "python3"
  },
  "language_info": {
   "codemirror_mode": {
    "name": "ipython",
    "version": 3
   },
   "file_extension": ".py",
   "mimetype": "text/x-python",
   "name": "python",
   "nbconvert_exporter": "python",
   "pygments_lexer": "ipython3",
   "version": "3.10.10"
  },
  "orig_nbformat": 4,
  "vscode": {
   "interpreter": {
    "hash": "dbcf07c5281d25e0992701b85e38716a4c7d6f793bca9ee5ebc4122174861675"
   }
  }
 },
 "nbformat": 4,
 "nbformat_minor": 2
}
