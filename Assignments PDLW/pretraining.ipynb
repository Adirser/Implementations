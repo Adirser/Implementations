{
 "cells": [
  {
   "cell_type": "code",
   "execution_count": 1,
   "metadata": {},
   "outputs": [],
   "source": [
    "import pandas as pd \n",
    "import numpy as np\n",
    "import matplotlib.pyplot as plt\n",
    "import seaborn as sns\n",
    "import os\n",
    "import pickle\n",
    "import torch\n",
    "import torch.nn as nn\n",
    "import torch.nn.functional as F\n",
    "import torch.optim as optim\n",
    "import torchsummary \n",
    "from torch.utils.data import Dataset, DataLoader\n",
    "import time\n",
    "import neptune.new as neptune\n",
    "from sklearn import pipeline, metrics\n",
    "from sklearn.preprocessing import StandardScaler, MinMaxScaler, FunctionTransformer\n",
    "from sklearn.pipeline import make_pipeline\n",
    "from sklearn.model_selection import GridSearchCV, train_test_split"
   ]
  },
  {
   "cell_type": "code",
   "execution_count": 2,
   "metadata": {},
   "outputs": [
    {
     "data": {
      "text/plain": [
       "True"
      ]
     },
     "execution_count": 2,
     "metadata": {},
     "output_type": "execute_result"
    }
   ],
   "source": [
    "torch.cuda.is_available()\n",
    "\n"
   ]
  },
  {
   "cell_type": "code",
   "execution_count": 3,
   "metadata": {},
   "outputs": [],
   "source": [
    "number_to_activity ={ \n",
    "        '0': 'other'\n",
    "        ,'1': 'lying'\n",
    "        ,'2': 'sitting'\n",
    "        ,'3': 'standing'\n",
    "        ,'4': 'walking'\n",
    "        ,'5': 'running'\n",
    "        ,'6': 'cycling'\n",
    "        ,'7': 'Nordic walking'\n",
    "        ,'9': 'watching TV'\n",
    "        ,'10':'computer work'\n",
    "        ,'11':'car driving'\n",
    "        ,'12':'ascending stairs'\n",
    "        ,'13':'descending stairs'\n",
    "        ,'16':'vacuum cleaning'\n",
    "        ,'17':'ironing'\n",
    "        ,'18':'folding laundry'\n",
    "        ,'19':'house cleaning'\n",
    "        ,'20':'playing soccer'\n",
    "        ,'24':'rope jumping'\n",
    "        }\n",
    "activity_to_number ={ \n",
    "         'other':'0' \n",
    "        ,'lying':'1' \n",
    "        ,'sitting':'2' \n",
    "        ,'standing':'3' \n",
    "        ,'walking':'4' \n",
    "        ,'running':'5' \n",
    "        ,'cycling':'6' \n",
    "        ,'Nordic walking':'7' \n",
    "        ,'watching TV':'9' \n",
    "        ,'computer work':'10'\n",
    "        ,'car driving':'11' \n",
    "        ,'ascending stairs':'12' \n",
    "        ,'descending stairs':'13' \n",
    "        ,'vacuum cleaning':'16' \n",
    "        ,'ironing':'17' \n",
    "        ,'folding laundry':'18' \n",
    "        ,'house cleaning':'19' \n",
    "        ,'playing soccer':'20' \n",
    "        ,'rope jumping':'24' \n",
    "        }"
   ]
  },
  {
   "cell_type": "code",
   "execution_count": 37,
   "metadata": {},
   "outputs": [],
   "source": [
    "def sliding_window(df, window_size, stride):\n",
    "    data = df.copy()\n",
    "    data = data.reset_index(drop=True)\n",
    "    data = data.to_numpy()\n",
    "    data_list = []\n",
    "    for i in range(0, len(data), stride):\n",
    "        if i + window_size < len(data):\n",
    "            data_list.append(data[i:i+window_size])\n",
    "        else:\n",
    "            return torch.Tensor(data_list)\n",
    "\n",
    "#Function to interpolate NaNs because we want to keep the data continuous\n",
    "def interpolate_nans(df):\n",
    "    df = df.interpolate(method='linear', axis=0).ffill().bfill()\n",
    "    return df\n",
    "\n",
    "def calc_trend(df,feature):\n",
    "    if df[-1,feature] > df[0,feature]:\n",
    "        return 1\n",
    "    else:\n",
    "        return 0\n",
    "\n",
    "def pool_data(pretraining_df,subjects,activities,ws):\n",
    "    data = {}\n",
    "    for activity in activities:\n",
    "        data[activity] = torch.empty(0,ws,33)\n",
    "        for subject in subjects:\n",
    "            if pretraining_df[(subject,activity)] is not None :\n",
    "                data[activity] = torch.cat((data[activity],pretraining_df[(subject,activity)]),0)\n",
    "    return data\n",
    "\n",
    "def create_labels_for_pretraining(data,activities,feature_for_trend):\n",
    "    y_pooled= []\n",
    "    x_pooled = [] \n",
    "    for act in activities:\n",
    "        for sequence in data[act]:\n",
    "            x_pooled.append(sequence[:,3:])   # drop time stamp and activity ID \n",
    "            y_pooled.append(calc_trend(sequence,feature_for_trend))\n",
    "    return x_pooled , y_pooled\n",
    "\n",
    "def get_labels(data,activities):\n",
    "    y = []\n",
    "    x = [] \n",
    "    for act in activities:\n",
    "        for sequence in data[act]:\n",
    "            x.append(sequence[:,2:])   # drop time stamp and activity ID \n",
    "            if int(act) == 24:\n",
    "                y.append(21)\n",
    "            else:\n",
    "                y.append(int(act))\n",
    "    return x , y\n",
    "\n",
    "def train_loop(data_loader, model,device,loss_fn,optimizer,print_every_n=200):\n",
    "    model.train()\n",
    "    size = len(data_loader.dataset)\n",
    "    num_batches = len(data_loader)\n",
    "    train_loss=0\n",
    "    tp=0\n",
    "    for batch,(X,y) in enumerate(data_loader):\n",
    "        X = X.to(device)\n",
    "        y = y.to(dtype=torch.long)\n",
    "        y = y.to(device)\n",
    "        pred = model(X)\n",
    "        loss = loss_fn(pred,y)\n",
    "        train_loss += loss\n",
    "        tp += (y==pred.argmax(1)).type(torch.float).sum().item()\n",
    "        optimizer.zero_grad()\n",
    "        loss.backward()\n",
    "        optimizer.step()\n",
    "        loss, current = loss.item(), batch*len(X)\n",
    "        if batch%print_every_n==0:\n",
    "            print(f'loss={loss:.3f}, {current} / {size}')\n",
    "\n",
    "    train_loss /= num_batches\n",
    "    train_acc = tp/size    \n",
    "        \n",
    "    return train_loss,train_acc\n",
    "\n",
    "def validation_loop(data_loader,model,device,loss_fn):\n",
    "    model.eval()\n",
    "    size=len(data_loader.dataset)\n",
    "    num_batches = len(data_loader)\n",
    "    val_loss=0\n",
    "    tp=0\n",
    "    with torch.no_grad():\n",
    "        for X,y in data_loader:\n",
    "            X = X.to(device)\n",
    "            y = y.to(dtype=torch.long)\n",
    "            y = y.to(device)\n",
    "            pred = model(X)\n",
    "            val_loss += loss_fn(pred,y).item()\n",
    "            tp += (y==pred.argmax(1)).type(torch.float).sum().item()\n",
    "        \n",
    "    val_loss /= num_batches\n",
    "    val_acc = tp/size\n",
    "    print(f'accuracy = {val_acc}, val_loss = {val_loss:2f}')\n",
    "    return val_loss,val_acc"
   ]
  },
  {
   "cell_type": "code",
   "execution_count": 5,
   "metadata": {},
   "outputs": [
    {
     "name": "stdout",
     "output_type": "stream",
     "text": [
      "Now reading subject number 101\n"
     ]
    },
    {
     "name": "stderr",
     "output_type": "stream",
     "text": [
      "C:\\Users\\nati\\AppData\\Local\\Temp\\ipykernel_23984\\337613071.py:10: UserWarning: Creating a tensor from a list of numpy.ndarrays is extremely slow. Please consider converting the list to a single numpy.ndarray with numpy.array() before converting to a tensor. (Triggered internally at ..\\torch\\csrc\\utils\\tensor_new.cpp:233.)\n",
      "  return torch.Tensor(data_list)\n"
     ]
    },
    {
     "name": "stdout",
     "output_type": "stream",
     "text": [
      "Now reading subject number 102\n",
      "Now reading subject number 103\n",
      "Now reading subject number 104\n",
      "Now reading subject number 105\n",
      "Now reading subject number 106\n",
      "Now reading subject number 107\n",
      "Now reading subject number 108\n",
      "Now reading subject number 109\n"
     ]
    }
   ],
   "source": [
    "full_df= pd.read_pickle('subjects_data_new.pickle')\n",
    "\n",
    "subject_data = {}\n",
    "\n",
    "keys = full_df.keys()\n",
    "# keys = [key for key in keys if key not in [107,108]]\n",
    "list_of_classes = list(number_to_activity.keys())\n",
    "\n",
    "window_size = 400\n",
    "num_features = 33\n",
    "stride = 100\n",
    "\n",
    "for key in keys:\n",
    "    print(f\"Now reading subject number {key}\")\n",
    "    df = full_df[key].copy()\n",
    "    for label in list_of_classes:\n",
    "        # Should perform different sliding windows here per subject\n",
    "        new_data = df[df['activityID'] == int(label)]\n",
    "        # Interpolate NaNs per subject per activity ( No mixup of data)\n",
    "        new_data = interpolate_nans(new_data)\n",
    "        # Sliding window per subject per activity\n",
    "        subject_data[key,label] = sliding_window(new_data, window_size, stride)\n",
    "\n",
    "pd.to_pickle(subject_data,\"C:\\\\Users\\\\nati\\\\Desktop\\\\New folder\\\\data.pickle\")"
   ]
  },
  {
   "cell_type": "code",
   "execution_count": null,
   "metadata": {},
   "outputs": [],
   "source": [
    "pretraining_df = pd.read_pickle(\"C:\\\\Users\\\\nati\\\\Desktop\\\\New folder\\\\data_ws_800.pickle\")\n",
    "#Pool the data together for each activity\n",
    "activities = [\"0\",\"1\",\"2\",\"3\",\"4\",\"5\",\"6\",\"7\",\"9\",\"10\",\"11\",\"12\",\"13\",\"16\",\"17\",\"18\",\"19\",\"20\",\"24\"]\n",
    "\n",
    "subjects = [101,102,103,104,105,106,109]\n",
    "subjects_test = [107,108]\n",
    "\n",
    "x_train = pool_data(pretraining_df,subjects,activities,400)\n",
    "x_test = pool_data(pretraining_df,subjects_test,activities,400)"
   ]
  },
  {
   "cell_type": "code",
   "execution_count": 6,
   "metadata": {},
   "outputs": [],
   "source": [
    "pretraining_df = pd.read_pickle(\"C:\\\\Users\\\\nati\\\\Desktop\\\\New folder\\\\data.pickle\")"
   ]
  },
  {
   "cell_type": "code",
   "execution_count": 153,
   "metadata": {},
   "outputs": [
    {
     "data": {
      "text/plain": [
       "(tensor([0., 1.]), tensor([4281, 2847]))"
      ]
     },
     "execution_count": 153,
     "metadata": {},
     "output_type": "execute_result"
    }
   ],
   "source": [
    "#Create labels for pretraining\n",
    "feature_for_trend = 2 # 2 is the x axis\n",
    "x_train_pooled,y_train_pooled= create_labels_for_pretraining(x_train,activities,feature_for_trend)\n",
    "x_test_pooled,y_test_pooled = create_labels_for_pretraining(x_test,activities,feature_for_trend)\n",
    "x_train_pooled = torch.stack(x_train_pooled)\n",
    "x_test_pooled = torch.stack(x_test_pooled)\n",
    "y_train_pooled = torch.Tensor(y_train_pooled)\n",
    "y_test_pooled = torch.Tensor(y_test_pooled)\n",
    "y_test_pooled.unique(return_counts=True)"
   ]
  },
  {
   "cell_type": "code",
   "execution_count": 8,
   "metadata": {},
   "outputs": [
    {
     "data": {
      "text/plain": [
       "(tensor([ 0.,  1.,  2.,  3.,  4.,  5.,  6.,  7., 12., 13., 16., 17., 21.]),\n",
       " tensor([2261,  491,  345,  502,  646,  195,  474,  569,  286,  206,  451,  617,\n",
       "           85]))"
      ]
     },
     "execution_count": 8,
     "metadata": {},
     "output_type": "execute_result"
    }
   ],
   "source": [
    "#Fine tuning task\n",
    "x_train_finetuning , y_train_finetuning = get_labels(x_train,activities)\n",
    "x_test_finetuning , y_test_finetuning = get_labels(x_test,activities)\n",
    "x_train_finetuning = torch.stack(x_train_finetuning)\n",
    "x_test_finetuning = torch.stack(x_test_finetuning)\n",
    "y_train_finetuning = torch.Tensor(y_train_finetuning)\n",
    "y_test_finetuning = torch.Tensor(y_test_finetuning)\n",
    "y_test_finetuning.unique(return_counts=True)"
   ]
  },
  {
   "cell_type": "code",
   "execution_count": 9,
   "metadata": {},
   "outputs": [],
   "source": [
    "class activity_dataset(Dataset):    \n",
    "    def __init__(self, X, y, transform=None, trarget_transform=None):\n",
    "        self.X = X \n",
    "        self.y = y\n",
    "        self.transform = transform\n",
    "        self.target_transform = trarget_transform\n",
    "        \n",
    "    def __len__(self):\n",
    "        return len(self.y)\n",
    "    \n",
    "    def __getitem__(self,idx):\n",
    "        X = self.X[idx]\n",
    "        y = self.y[idx]\n",
    "        if self.transform:\n",
    "            X = self.transform(X)\n",
    "        if self.target_transform:\n",
    "            y = self.target_transform(y)\n",
    "        return X, y"
   ]
  },
  {
   "cell_type": "code",
   "execution_count": 10,
   "metadata": {},
   "outputs": [
    {
     "name": "stdout",
     "output_type": "stream",
     "text": [
      "Computation resource: cuda\n"
     ]
    }
   ],
   "source": [
    "device = torch.device(\"cuda\" if torch.cuda.is_available() else \"cpu\")\n",
    "print(f'Computation resource: {device}')"
   ]
  },
  {
   "cell_type": "code",
   "execution_count": 11,
   "metadata": {},
   "outputs": [],
   "source": [
    "class LSTM_Classifier(nn.Module):\n",
    "    def __init__(self, input_dim=31, hidden_dim=256, num_layers=2, output_dim=22, dropout=0):\n",
    "        '''\n",
    "        input_dim = number of features at each time step \n",
    "        hidden_dim = number of features produced by each LSTM cell (in each layer)\n",
    "        num_layers = number of LSTM layers\n",
    "        output_dim = number of classes (number of activities)\n",
    "        '''\n",
    "        super().__init__()\n",
    "        self.hidden_dim = hidden_dim\n",
    "        self.num_layers = num_layers\n",
    "        self.lstm = nn.LSTM(input_size=input_dim, hidden_size=hidden_dim, \n",
    "                            num_layers=num_layers, batch_first=True, dropout=dropout)\n",
    "        self.fc = nn.Linear(hidden_dim, output_dim)\n",
    "        \n",
    "        \n",
    "    def forward(self, X):\n",
    "        hidden_features, (h_n, c_n) = self.lstm(X)  # (h_0, c_0) default to zeros\n",
    "        hidden_features = hidden_features[:,-1,:]  # index only the features produced by the last LSTM cell\n",
    "        out = self.fc(hidden_features)\n",
    "        return out"
   ]
  },
  {
   "attachments": {},
   "cell_type": "markdown",
   "metadata": {},
   "source": [
    "# Pretraining the Network"
   ]
  },
  {
   "cell_type": "code",
   "execution_count": 154,
   "metadata": {},
   "outputs": [],
   "source": [
    "x_train_pooled,x_val_pooled,y_train_pooled,y_val_pooled = train_test_split(x_train_pooled,y_train_pooled,test_size=0.2,shuffle=True)\n"
   ]
  },
  {
   "cell_type": "code",
   "execution_count": 159,
   "metadata": {},
   "outputs": [],
   "source": [
    "#Pretraining Configurations\n",
    "batch_size=64\n",
    "train_loader = DataLoader(activity_dataset(x_train_pooled,y_train_pooled), shuffle=False, batch_size=batch_size)\n",
    "validation_loader = DataLoader(activity_dataset(x_val_pooled,y_val_pooled), shuffle=False, batch_size=batch_size)\n",
    "test_loader = DataLoader(activity_dataset(x_test_pooled,y_test_pooled), shuffle=False, batch_size=batch_size)\n",
    "lr = 0.001\n",
    "best_acc = 0\n",
    "model = LSTM_Classifier(dropout=0.75,num_layers=5,input_dim=30)\n",
    "model.to(device)\n",
    "criterion = nn.CrossEntropyLoss()\n",
    "optimizer = torch.optim.Adam(model.parameters(), lr=lr)\n",
    "save_each_epoch = True"
   ]
  },
  {
   "cell_type": "code",
   "execution_count": null,
   "metadata": {},
   "outputs": [],
   "source": [
    "run = neptune.init(\n",
    "    project=\"astarteam/PDLW-assignment-2\",\n",
    "    api_token=\"eyJhcGlfYWRkcmVzcyI6Imh0dHBzOi8vYXBwLm5lcHR1bmUuYWkiLCJhcGlfdXJsIjoiaHR0cHM6Ly9hcHAubmVwdHVuZS5haSIsImFwaV9rZXkiOiJhMDI5YzIxMy00NjE1LTQ2MDUtOTk3NS1jNDJhMjIzZDE0NDMifQ==\",\n",
    ")  # your credentials\n",
    "run[\"algorithm\"] = \"LSTM-Pretraining-2ndTrial\"\n",
    "\n",
    "params = {\"batch_size\": batch_size,\n",
    "        \"learning_rate\": lr, \n",
    "        \"optimizer\": \"CrossEntropyLoss\"}\n",
    "\n",
    "run[\"parameters\"] = params\n",
    "\n",
    "results = []\n",
    "# define the number of epochs and early stopping patience\n",
    "epochs = 50\n",
    "patience = 5\n",
    "best_loss = np.inf\n",
    "for epoch in range(epochs):\n",
    "    start_time = time.time()\n",
    "    train_loss, train_acc = train_loop(train_loader, model, device, criterion, optimizer)\n",
    "    total_train_time = (time.time() - start_time)/60\n",
    "    val_loss, val_acc = validation_loop(validation_loader, model, device, criterion)\n",
    "    run[\"train/accuracy\"].log(train_acc)\n",
    "    run[\"train/loss\"].log(train_loss)\n",
    "    run['train/run_time'].log(total_train_time)\n",
    "    run[\"validation/accuracy\"].log(val_acc)\n",
    "    run[\"validation/loss\"].log(val_loss)\n",
    "    results.append({'epoch_number':epoch,'train_loss':train_loss.detach().cpu().numpy(),'val_loss':val_loss,'train_acc':train_acc,'val_acc':val_acc, 'train_time':total_train_time})\n",
    "    # if the validation loss is the best seen so far, update the best loss and reset the early stopping counter\n",
    "    if val_loss < best_loss:\n",
    "        torch.save(model.state_dict(), f'pretraining_{epoch}.pth')\n",
    "        val_loss,val_acc = validation_loop(validation_loader, model, device, criterion)\n",
    "        best_loss = val_loss\n",
    "        early_stopping_counter = 0\n",
    "    # otherwise, increment the early stopping counter\n",
    "    else:\n",
    "        early_stopping_counter += 1     \n",
    "    # if the early stopping counter has reached the patience, stop training\n",
    "    if early_stopping_counter == patience:\n",
    "        break\n",
    "run.stop()\n",
    "\n",
    "import time\n",
    "pd.to_pickle(results,f\"C:\\\\Users\\\\nati\\\\Desktop\\\\New folder\\\\Results_LSTM_Pretraining_{time.time()}.pickle\")"
   ]
  },
  {
   "attachments": {},
   "cell_type": "markdown",
   "metadata": {},
   "source": [
    "## Finetuning the pretrained network\n"
   ]
  },
  {
   "cell_type": "code",
   "execution_count": 12,
   "metadata": {},
   "outputs": [],
   "source": [
    "weight_prob_dict = { \n",
    "        '0': 0.012\n",
    "        ,'1': 0.059\n",
    "        ,'2': 0.055\n",
    "        ,'3': 0.06 \n",
    "        ,'4': 0.048\n",
    "        ,'5': 0.107\n",
    "        ,'6': 0.072\n",
    "        ,'7': 0.063\n",
    "        ,'12': 0.097\n",
    "        ,'13':0.102\n",
    "        ,'16':0.064\n",
    "        ,'17':0.047\n",
    "        ,'21':0.215 }"
   ]
  },
  {
   "cell_type": "code",
   "execution_count": 13,
   "metadata": {},
   "outputs": [],
   "source": [
    "x_train_finetuning,x_val_finetuning,y_train_finetuning,y_val_finetuning = train_test_split(x_train_finetuning,y_train_finetuning,test_size=0.2,shuffle=True)\n"
   ]
  },
  {
   "cell_type": "code",
   "execution_count": 14,
   "metadata": {},
   "outputs": [
    {
     "data": {
      "text/plain": [
       "torch.Size([16996, 400, 31])"
      ]
     },
     "execution_count": 14,
     "metadata": {},
     "output_type": "execute_result"
    }
   ],
   "source": [
    "x_train_finetuning.shape"
   ]
  },
  {
   "cell_type": "code",
   "execution_count": 15,
   "metadata": {},
   "outputs": [],
   "source": [
    "#Creating Weights to deal with imbalanced dataset\n",
    "total = y_train_finetuning.unique(return_counts=True)[1].sum().item()\n",
    "probas = [x.item()/total for x in  y_train_finetuning.unique(return_counts=True)[1]]\n",
    "probas = np.round(probas,3)\n",
    "weights = 1/probas\n",
    "weights = np.round(weights/sum(weights),3)\n",
    "final_weights = []\n",
    "for sample in y_train_finetuning:\n",
    "    final_weights.append(weight_prob_dict[str(int(sample.item()))])"
   ]
  },
  {
   "cell_type": "code",
   "execution_count": 16,
   "metadata": {},
   "outputs": [
    {
     "data": {
      "text/plain": [
       "16996"
      ]
     },
     "execution_count": 16,
     "metadata": {},
     "output_type": "execute_result"
    }
   ],
   "source": [
    "len(final_weights)"
   ]
  },
  {
   "cell_type": "code",
   "execution_count": 17,
   "metadata": {},
   "outputs": [],
   "source": [
    "from torch.utils.data import WeightedRandomSampler\n",
    "sampler = WeightedRandomSampler(final_weights, len(final_weights))\n"
   ]
  },
  {
   "cell_type": "code",
   "execution_count": 18,
   "metadata": {},
   "outputs": [],
   "source": [
    "batch_size=64\n",
    "train_loader = DataLoader(activity_dataset(x_train_finetuning,y_train_finetuning), shuffle=False, batch_size=batch_size,sampler=sampler)\n",
    "validation_loader = DataLoader(activity_dataset(x_val_finetuning,y_val_finetuning), shuffle=False, batch_size=batch_size)\n",
    "test_loader = DataLoader(activity_dataset(x_test_finetuning,y_test_finetuning), shuffle=False, batch_size=batch_size)\n",
    "lr = 0.001\n",
    "best_acc = 0\n",
    "model = LSTM_Classifier(dropout=0.75,num_layers=5)\n",
    "model.load_state_dict(torch.load(\"model_pretraining_weighted_23.pth\"))\n",
    "model.to(device)\n",
    "criterion = nn.CrossEntropyLoss()\n",
    "optimizer = torch.optim.Adam(model.parameters(), lr=lr)\n",
    "save_each_epoch = True"
   ]
  },
  {
   "cell_type": "code",
   "execution_count": 163,
   "metadata": {},
   "outputs": [
    {
     "data": {
      "text/plain": [
       "<All keys matched successfully>"
      ]
     },
     "execution_count": 163,
     "metadata": {},
     "output_type": "execute_result"
    }
   ],
   "source": [
    "model.load_state_dict(torch.load(\"model_pretraining_weighted_23.pth\"))\n"
   ]
  },
  {
   "cell_type": "code",
   "execution_count": 164,
   "metadata": {},
   "outputs": [],
   "source": [
    "model.to(device)\n",
    "criterion = nn.CrossEntropyLoss()\n",
    "optimizer = torch.optim.Adam(model.parameters(), lr=lr)\n",
    "save_each_epoch = True"
   ]
  },
  {
   "cell_type": "code",
   "execution_count": 19,
   "metadata": {},
   "outputs": [
    {
     "name": "stdout",
     "output_type": "stream",
     "text": [
      "torch.Size([16996, 400, 31]) torch.Size([4250, 400, 31]) torch.Size([16996]) torch.Size([4250])\n"
     ]
    }
   ],
   "source": [
    "print(x_train_finetuning.shape,x_val_finetuning.shape,y_train_finetuning.shape,y_val_finetuning.shape)"
   ]
  },
  {
   "cell_type": "code",
   "execution_count": 20,
   "metadata": {},
   "outputs": [
    {
     "name": "stderr",
     "output_type": "stream",
     "text": [
      "C:\\Users\\nati\\AppData\\Local\\Temp\\ipykernel_23984\\3509020738.py:1: NeptuneDeprecationWarning: `init` is deprecated, use `init_run` instead. We'll end support of it in `neptune-client==1.0.0`.\n",
      "  run = neptune.init(\n"
     ]
    },
    {
     "name": "stdout",
     "output_type": "stream",
     "text": [
      "https://app.neptune.ai/astarteam/PDLW-assignment-2/e/PDLWAS-58\n",
      "Remember to stop your run once you’ve finished logging your metadata (https://docs.neptune.ai/api/run#stop). It will be stopped automatically only when the notebook kernel/interactive console is terminated.\n",
      "loss=0.283, 0 / 16996\n",
      "loss=0.284, 12800 / 16996\n",
      "accuracy = 0.7287058823529412, val_loss = 0.899635\n",
      "accuracy = 0.7287058823529412, val_loss = 0.899635\n",
      "loss=0.188, 0 / 16996\n",
      "loss=0.422, 12800 / 16996\n",
      "accuracy = 0.7051764705882353, val_loss = 1.005842\n",
      "loss=0.371, 0 / 16996\n",
      "loss=0.251, 12800 / 16996\n",
      "accuracy = 0.7287058823529412, val_loss = 0.901895\n",
      "loss=0.260, 0 / 16996\n",
      "loss=0.175, 12800 / 16996\n",
      "accuracy = 0.7661176470588236, val_loss = 0.811919\n",
      "accuracy = 0.7661176470588236, val_loss = 0.811919\n",
      "loss=0.506, 0 / 16996\n",
      "loss=0.400, 12800 / 16996\n",
      "accuracy = 0.6955294117647058, val_loss = 0.997757\n",
      "loss=0.242, 0 / 16996\n",
      "loss=0.327, 12800 / 16996\n",
      "accuracy = 0.7632941176470588, val_loss = 0.760023\n",
      "accuracy = 0.7632941176470588, val_loss = 0.760023\n",
      "loss=0.195, 0 / 16996\n",
      "loss=0.229, 12800 / 16996\n",
      "accuracy = 0.7875294117647059, val_loss = 0.720500\n",
      "accuracy = 0.7875294117647059, val_loss = 0.720500\n",
      "loss=0.339, 0 / 16996\n",
      "loss=0.323, 12800 / 16996\n",
      "accuracy = 0.756, val_loss = 0.778184\n",
      "loss=0.371, 0 / 16996\n",
      "loss=0.201, 12800 / 16996\n",
      "accuracy = 0.8011764705882353, val_loss = 0.653864\n",
      "accuracy = 0.8011764705882353, val_loss = 0.653864\n",
      "loss=0.420, 0 / 16996\n",
      "loss=0.126, 12800 / 16996\n",
      "accuracy = 0.7863529411764706, val_loss = 0.719889\n",
      "loss=0.416, 0 / 16996\n",
      "loss=0.270, 12800 / 16996\n",
      "accuracy = 0.7355294117647059, val_loss = 0.855343\n",
      "loss=0.314, 0 / 16996\n",
      "loss=0.204, 12800 / 16996\n",
      "accuracy = 0.7529411764705882, val_loss = 0.889378\n",
      "loss=0.394, 0 / 16996\n",
      "loss=0.192, 12800 / 16996\n",
      "accuracy = 0.7884705882352941, val_loss = 0.699732\n",
      "loss=0.304, 0 / 16996\n",
      "loss=0.125, 12800 / 16996\n",
      "accuracy = 0.7581176470588236, val_loss = 0.739110\n",
      "Shutting down background jobs, please wait a moment...\n",
      "Done!\n",
      "Waiting for the remaining 8 operations to synchronize with Neptune. Do not kill this process.\n",
      "All 8 operations synced, thanks for waiting!\n",
      "Explore the metadata in the Neptune app:\n",
      "https://app.neptune.ai/astarteam/PDLW-assignment-2/e/PDLWAS-58\n"
     ]
    }
   ],
   "source": [
    "run = neptune.init(\n",
    "    project=\"astarteam/PDLW-assignment-2\",\n",
    "    api_token=\"eyJhcGlfYWRkcmVzcyI6Imh0dHBzOi8vYXBwLm5lcHR1bmUuYWkiLCJhcGlfdXJsIjoiaHR0cHM6Ly9hcHAubmVwdHVuZS5haSIsImFwaV9rZXkiOiJhMDI5YzIxMy00NjE1LTQ2MDUtOTk3NS1jNDJhMjIzZDE0NDMifQ==\",\n",
    ")  # your credentials\n",
    "run[\"algorithm\"] = \"LSTM-Finetuning-WeightedSamples\"\n",
    "\n",
    "params = {\"batch_size\": batch_size,\n",
    "        \"learning_rate\": lr, \n",
    "        \"optimizer\": \"CrossEntropyLoss\"}\n",
    "\n",
    "run[\"parameters\"] = params\n",
    "\n",
    "results = []\n",
    "# define the number of epochs and early stopping patience\n",
    "epochs = 50\n",
    "patience = 5\n",
    "best_loss = np.inf\n",
    "for epoch in range(epochs):\n",
    "    start_time = time.time()\n",
    "    train_loss, train_acc = train_loop(train_loader, model, device, criterion, optimizer)\n",
    "    total_train_time = (time.time() - start_time)/60\n",
    "    val_loss, val_acc = validation_loop(validation_loader, model, device, criterion)\n",
    "    run[\"train/accuracy\"].log(train_acc)\n",
    "    run[\"train/loss\"].log(train_loss)\n",
    "    run['train/run_time'].log(total_train_time)\n",
    "    run[\"validation/accuracy\"].log(val_acc)\n",
    "    run[\"validation/loss\"].log(val_loss)\n",
    "    results.append({'epoch_number':epoch,'train_loss':train_loss.detach().cpu().numpy(),'val_loss':val_loss,'train_acc':train_acc,'val_acc':val_acc, 'train_time':total_train_time})\n",
    "    # if the validation loss is the best seen so far, update the best loss and reset the early stopping counter\n",
    "    if val_loss < best_loss:\n",
    "        torch.save(model.state_dict(), f'model_pretraining_weighted_{epoch}.pth')\n",
    "        val_loss,val_acc = validation_loop(validation_loader, model, device, criterion)\n",
    "        best_loss = val_loss\n",
    "        early_stopping_counter = 0\n",
    "    # otherwise, increment the early stopping counter\n",
    "    else:\n",
    "        early_stopping_counter += 1     \n",
    "    # if the early stopping counter has reached the patience, stop training\n",
    "    if early_stopping_counter == patience:\n",
    "        break\n",
    "run.stop()\n",
    "\n",
    "import time\n",
    "pd.to_pickle(results,f\"C:\\\\Users\\\\nati\\\\Desktop\\\\New folder\\\\Results_LSTM_Finetuned{time.time()}.pickle\")\n"
   ]
  },
  {
   "cell_type": "code",
   "execution_count": 140,
   "metadata": {},
   "outputs": [
    {
     "data": {
      "image/png": "[encoded data removed]",
      "text/plain": [
       "<Figure size 640x480 with 1 Axes>"
      ]
     },
     "metadata": {},
     "output_type": "display_data"
    }
   ],
   "source": [
    "df = pd.DataFrame(results)\n",
    "plt.plot(df.index ,df.train_loss, label = \"train loss\")\n",
    "plt.plot(df.index , df.val_loss, label = \"val loss\")\n",
    "plt.title = 'Learning curve'\n",
    "plt.xlabel('epoch')\n",
    "plt.ylabel('loss')\n",
    "plt.legend()\n",
    "plt.show()"
   ]
  },
  {
   "cell_type": "code",
   "execution_count": 142,
   "metadata": {},
   "outputs": [
    {
     "data": {
      "image/png": "[encoded data removed]",
      "text/plain": [
       "<Figure size 640x480 with 1 Axes>"
      ]
     },
     "metadata": {},
     "output_type": "display_data"
    }
   ],
   "source": [
    "plt.plot(df.index ,df.train_acc, label = \"train accuracy\")\n",
    "plt.plot(df.index , df.val_acc, label = \"val accuracy\")\n",
    "plt.title = 'Learning curve'\n",
    "plt.xlabel('epoch')\n",
    "plt.ylabel('accuracy')\n",
    "plt.legend()\n",
    "plt.show()"
   ]
  },
  {
   "cell_type": "code",
   "execution_count": 114,
   "metadata": {},
   "outputs": [
    {
     "name": "stdout",
     "output_type": "stream",
     "text": [
      "Shutting down background jobs, please wait a moment...\n",
      "Done!\n",
      "Waiting for the remaining 18 operations to synchronize with Neptune. Do not kill this process.\n",
      "All 18 operations synced, thanks for waiting!\n",
      "Explore the metadata in the Neptune app:\n",
      "https://app.neptune.ai/astarteam/PDLW-assignment-2/e/PDLWAS-53\n"
     ]
    }
   ],
   "source": [
    "run.stop()"
   ]
  },
  {
   "cell_type": "code",
   "execution_count": 21,
   "metadata": {},
   "outputs": [
    {
     "name": "stdout",
     "output_type": "stream",
     "text": [
      "accuracy = 0.47152076318742986, val_loss = 2.303519\n"
     ]
    }
   ],
   "source": [
    "val_loss, val_acc = validation_loop(test_loader, model, device, criterion)"
   ]
  },
  {
   "cell_type": "code",
   "execution_count": 22,
   "metadata": {},
   "outputs": [],
   "source": [
    "def sampling_test(data_loader,model,device):\n",
    "    model.eval()\n",
    "    preds = []\n",
    "    gt = []\n",
    "    with torch.no_grad():\n",
    "        for X,y in data_loader:\n",
    "            X = X.to(device)\n",
    "            y = y.to(dtype=torch.long)\n",
    "            y = y.to(device)\n",
    "            pred = model(X)\n",
    "            preds.append(pred.argmax(1).detach().cpu().numpy())\n",
    "            gt.append(y.detach().cpu().numpy())\n",
    "            \n",
    "    return preds,gt"
   ]
  },
  {
   "cell_type": "code",
   "execution_count": 23,
   "metadata": {},
   "outputs": [],
   "source": [
    "sample_loader = DataLoader(activity_dataset(x_test_finetuning,y_test_finetuning), shuffle=False, batch_size=batch_size)\n"
   ]
  },
  {
   "cell_type": "code",
   "execution_count": 24,
   "metadata": {},
   "outputs": [],
   "source": [
    "preds,gt = sampling_test(sample_loader,model,device)"
   ]
  },
  {
   "cell_type": "code",
   "execution_count": 25,
   "metadata": {},
   "outputs": [
    {
     "data": {
      "text/plain": [
       "array([0.012, 0.058, 0.057, 0.06 , 0.049, 0.106, 0.072, 0.063, 0.1  ,\n",
       "       0.103, 0.065, 0.048, 0.206])"
      ]
     },
     "execution_count": 25,
     "metadata": {},
     "output_type": "execute_result"
    }
   ],
   "source": [
    "weights"
   ]
  },
  {
   "cell_type": "code",
   "execution_count": 80,
   "metadata": {},
   "outputs": [
    {
     "data": {
      "text/plain": [
       "tensor([ 0.,  1.,  2.,  3.,  4.,  5.,  6.,  7., 12., 13., 16., 17., 21.])"
      ]
     },
     "execution_count": 80,
     "metadata": {},
     "output_type": "execute_result"
    }
   ],
   "source": [
    "y_train_finetuning.unique(return_counts=True)[0]"
   ]
  },
  {
   "cell_type": "code",
   "execution_count": 92,
   "metadata": {},
   "outputs": [],
   "source": [
    "final_weights = np.array(final_weights)"
   ]
  },
  {
   "cell_type": "code",
   "execution_count": 29,
   "metadata": {},
   "outputs": [],
   "source": [
    "\n",
    "preds = np.concatenate(preds)\n",
    "gt = np.concatenate(gt)"
   ]
  },
  {
   "cell_type": "code",
   "execution_count": 31,
   "metadata": {},
   "outputs": [],
   "source": []
  },
  {
   "cell_type": "code",
   "execution_count": 30,
   "metadata": {},
   "outputs": [
    {
     "data": {
      "text/plain": [
       "array([ 3,  3,  3, ..., 21, 21, 21], dtype=int64)"
      ]
     },
     "execution_count": 30,
     "metadata": {},
     "output_type": "execute_result"
    }
   ],
   "source": [
    "preds"
   ]
  },
  {
   "cell_type": "code",
   "execution_count": 32,
   "metadata": {},
   "outputs": [
    {
     "data": {
      "text/plain": [
       "0.47152076318742986"
      ]
     },
     "metadata": {},
     "output_type": "display_data"
    },
    {
     "data": {
      "text/plain": [
       "array([[790,  16, 143, 289, 181, 100,  49,   6,  45, 132, 456,  14,  40],\n",
       "       [  4, 257, 224,   0,   0,   0,   0,   0,   0,   0,   6,   0,   0],\n",
       "       [  0,   0, 259,  79,   0,   0,   0,   0,   0,   0,   7,   0,   0],\n",
       "       [ 45,   0,   0, 346,   0,   0,   0,   0,   0,   0, 111,   0,   0],\n",
       "       [260,   1,   3,  32, 347,   0,   0,   0,   3,   0,   0,   0,   0],\n",
       "       [ 10,   0,   0,   0,   9,  30,   0,   0,   0, 143,   0,   0,   3],\n",
       "       [ 48,   0,   0,   0,  15,   0, 313,   0,   2,   4,  74,  18,   0],\n",
       "       [259,   0,   2,  12,  10,  70,   1, 204,   1,   3,   6,   0,   1],\n",
       "       [ 78,   0,   1,   5,  11,   1,   0,   0, 134,   2,  39,   0,  15],\n",
       "       [ 56,   0,   0,   5,  26,   0,   0,   0,   6, 103,  10,   0,   0],\n",
       "       [ 43,   1,  35,  29,   1,   0,  33,   0,   0,   0, 281,  28,   0],\n",
       "       [ 78,   0,  60,  98,   0,   0,  37,   0,   0,   0,  53, 291,   0],\n",
       "       [  7,   0,   0,   0,   0,   1,   0,   0,   1,  70,   0,   0,   6]],\n",
       "      dtype=int64)"
      ]
     },
     "metadata": {},
     "output_type": "display_data"
    }
   ],
   "source": [
    "\n",
    "from sklearn.metrics import accuracy_score,confusion_matrix\n",
    "display(accuracy_score(gt,preds))\n",
    "display(confusion_matrix(gt,preds))"
   ]
  },
  {
   "attachments": {},
   "cell_type": "markdown",
   "metadata": {},
   "source": [
    "## Using our pre-training task we realized we er're getting even worse results than without pretraining\n",
    "## Therefore we figured the original feature we created as target has too much of a difference from our original task target distribution.\n",
    "## We then tried to learn with the trend of the heartrate within a 4-sec time window as our target.\n",
    "## That didn't work out too well as well.\n"
   ]
  },
  {
   "attachments": {},
   "cell_type": "markdown",
   "metadata": {},
   "source": [
    "## 3 Ideas to improve our results:\n",
    "## 1) We can create a more complicated task for pretraining which resembles the original task a bit better.\n",
    "## 2) We can try to get rid of class - 0 because it is all the transient activities which may look like another class in terms of the data but is labeled\n",
    "## as 0 and therefor creates alot of noise for our algorithm\n",
    "## 3) We can try a different model for our task."
   ]
  },
  {
   "cell_type": "code",
   "execution_count": 33,
   "metadata": {},
   "outputs": [
    {
     "name": "stdout",
     "output_type": "stream",
     "text": [
      "Now reading subject number 101\n",
      "Now reading subject number 102\n",
      "Now reading subject number 103\n",
      "Now reading subject number 104\n",
      "Now reading subject number 105\n",
      "Now reading subject number 106\n",
      "Now reading subject number 107\n",
      "Now reading subject number 108\n",
      "Now reading subject number 109\n"
     ]
    }
   ],
   "source": [
    "full_df= pd.read_pickle('subjects_data_new.pickle')\n",
    "\n",
    "subject_data = {}\n",
    "\n",
    "keys = full_df.keys()\n",
    "# keys = [key for key in keys if key not in [107,108]]\n",
    "list_of_classes = list(number_to_activity.keys())\n",
    "\n",
    "window_size = 800\n",
    "num_features = 33\n",
    "stride = 100\n",
    "\n",
    "for key in keys:\n",
    "    print(f\"Now reading subject number {key}\")\n",
    "    df = full_df[key].copy()\n",
    "    for label in list_of_classes:\n",
    "        # Should perform different sliding windows here per subject\n",
    "        new_data = df[df['activityID'] == int(label)]\n",
    "        # Interpolate NaNs per subject per activity ( No mixup of data)\n",
    "        new_data = interpolate_nans(new_data)\n",
    "        # Sliding window per subject per activity\n",
    "        subject_data[key,label] = sliding_window(new_data, window_size, stride)\n",
    "\n",
    "pd.to_pickle(subject_data,\"C:\\\\Users\\\\nati\\\\Desktop\\\\New folder\\\\data_ws_800.pickle\")"
   ]
  },
  {
   "cell_type": "code",
   "execution_count": 35,
   "metadata": {},
   "outputs": [],
   "source": [
    "pretraining_df = pd.read_pickle(\"C:\\\\Users\\\\nati\\\\Desktop\\\\New folder\\\\data_ws_800.pickle\")"
   ]
  },
  {
   "cell_type": "code",
   "execution_count": 38,
   "metadata": {},
   "outputs": [
    {
     "data": {
      "text/plain": [
       "(tensor([ 0.,  1.,  2.,  3.,  4.,  5.,  6.,  7., 12., 13., 16., 17., 21.]),\n",
       " tensor([2253,  483,  337,  494,  638,  187,  466,  561,  278,  198,  443,  609,\n",
       "           81]))"
      ]
     },
     "execution_count": 38,
     "metadata": {},
     "output_type": "execute_result"
    }
   ],
   "source": [
    "#Pool the data together for each activity\n",
    "activities = [\"0\",\"1\",\"2\",\"3\",\"4\",\"5\",\"6\",\"7\",\"9\",\"10\",\"11\",\"12\",\"13\",\"16\",\"17\",\"18\",\"19\",\"20\",\"24\"]\n",
    "\n",
    "subjects = [101,102,103,104,105,106,109]\n",
    "subjects_test = [107,108]\n",
    "\n",
    "x_train = pool_data(pretraining_df,subjects,activities,800)\n",
    "x_test = pool_data(pretraining_df,subjects_test,activities,800)\n",
    "\n",
    "#Fine tuning task\n",
    "x_train_finetuning , y_train_finetuning = get_labels(x_train,activities)\n",
    "x_test_finetuning , y_test_finetuning = get_labels(x_test,activities)\n",
    "x_train_finetuning = torch.stack(x_train_finetuning)\n",
    "x_test_finetuning = torch.stack(x_test_finetuning)\n",
    "y_train_finetuning = torch.Tensor(y_train_finetuning)\n",
    "y_test_finetuning = torch.Tensor(y_test_finetuning)\n",
    "y_test_finetuning.unique(return_counts=True)\n",
    "\n"
   ]
  },
  {
   "cell_type": "code",
   "execution_count": 39,
   "metadata": {},
   "outputs": [
    {
     "name": "stdout",
     "output_type": "stream",
     "text": [
      "https://app.neptune.ai/astarteam/PDLW-assignment-2/e/PDLWAS-59\n",
      "Remember to stop your run once you’ve finished logging your metadata (https://docs.neptune.ai/api/run#stop). It will be stopped automatically only when the notebook kernel/interactive console is terminated.\n",
      "loss=0.248, 0 / 16763\n",
      "loss=0.407, 12800 / 16763\n",
      "accuracy = 0.798616082080649, val_loss = 0.572018\n",
      "accuracy = 0.798616082080649, val_loss = 0.572018\n",
      "loss=0.109, 0 / 16763\n",
      "loss=0.252, 12800 / 16763\n",
      "accuracy = 0.7131949415413983, val_loss = 0.800732\n",
      "loss=0.182, 0 / 16763\n",
      "loss=0.059, 12800 / 16763\n",
      "accuracy = 0.7716535433070866, val_loss = 0.696120\n",
      "loss=0.269, 0 / 16763\n",
      "loss=0.168, 12800 / 16763\n",
      "accuracy = 0.754712479121928, val_loss = 0.805550\n",
      "loss=0.429, 0 / 16763\n",
      "loss=0.151, 12800 / 16763\n",
      "accuracy = 0.747792889525173, val_loss = 0.734532\n",
      "loss=0.203, 0 / 16763\n",
      "loss=0.115, 12800 / 16763\n",
      "accuracy = 0.830112145072775, val_loss = 0.470985\n",
      "accuracy = 0.830112145072775, val_loss = 0.470985\n",
      "loss=0.127, 0 / 16763\n",
      "loss=0.226, 12800 / 16763\n",
      "accuracy = 0.7489859222142686, val_loss = 0.787666\n",
      "loss=0.173, 0 / 16763\n",
      "loss=0.046, 12800 / 16763\n",
      "accuracy = 0.8806967310904319, val_loss = 0.386813\n",
      "accuracy = 0.8806967310904319, val_loss = 0.386813\n",
      "loss=0.205, 0 / 16763\n",
      "loss=0.186, 12800 / 16763\n",
      "accuracy = 0.779288952517299, val_loss = 0.611776\n",
      "loss=0.108, 0 / 16763\n",
      "loss=0.219, 12800 / 16763\n",
      "accuracy = 0.8449057504175614, val_loss = 0.509860\n",
      "loss=0.291, 0 / 16763\n",
      "loss=0.108, 12800 / 16763\n",
      "accuracy = 0.8828441899308042, val_loss = 0.385298\n",
      "accuracy = 0.8828441899308042, val_loss = 0.385298\n",
      "loss=0.127, 0 / 16763\n",
      "loss=0.061, 12800 / 16763\n",
      "accuracy = 0.8224767358625626, val_loss = 0.540806\n",
      "loss=0.114, 0 / 16763\n",
      "loss=0.076, 12800 / 16763\n",
      "accuracy = 0.8544500119303269, val_loss = 0.451518\n",
      "loss=0.072, 0 / 16763\n",
      "loss=0.036, 12800 / 16763\n",
      "accuracy = 0.8203292770221904, val_loss = 0.602446\n",
      "loss=0.080, 0 / 16763\n",
      "loss=0.244, 12800 / 16763\n",
      "accuracy = 0.8518253400143164, val_loss = 0.441776\n",
      "loss=0.041, 0 / 16763\n",
      "loss=0.055, 12800 / 16763\n",
      "accuracy = 0.8339298496778812, val_loss = 0.484598\n",
      "Shutting down background jobs, please wait a moment...\n",
      "Done!\n",
      "Waiting for the remaining 8 operations to synchronize with Neptune. Do not kill this process.\n",
      "All 8 operations synced, thanks for waiting!\n",
      "Explore the metadata in the Neptune app:\n",
      "https://app.neptune.ai/astarteam/PDLW-assignment-2/e/PDLWAS-59\n"
     ]
    }
   ],
   "source": [
    "weight_prob_dict = { \n",
    "        '0': 0.012\n",
    "        ,'1': 0.059\n",
    "        ,'2': 0.055\n",
    "        ,'3': 0.06 \n",
    "        ,'4': 0.048\n",
    "        ,'5': 0.107\n",
    "        ,'6': 0.072\n",
    "        ,'7': 0.063\n",
    "        ,'12': 0.097\n",
    "        ,'13':0.102\n",
    "        ,'16':0.064\n",
    "        ,'17':0.047\n",
    "        ,'21':0.215 }\n",
    "\n",
    "x_train_finetuning,x_val_finetuning,y_train_finetuning,y_val_finetuning = train_test_split(x_train_finetuning,y_train_finetuning,test_size=0.2,shuffle=True)\n",
    "#Creating Weights to deal with imbalanced dataset\n",
    "total = y_train_finetuning.unique(return_counts=True)[1].sum().item()\n",
    "probas = [x.item()/total for x in  y_train_finetuning.unique(return_counts=True)[1]]\n",
    "probas = np.round(probas,3)\n",
    "weights = 1/probas\n",
    "weights = np.round(weights/sum(weights),3)\n",
    "final_weights = []\n",
    "for sample in y_train_finetuning:\n",
    "    final_weights.append(weight_prob_dict[str(int(sample.item()))])\n",
    "\n",
    "\n",
    "from torch.utils.data import WeightedRandomSampler\n",
    "sampler = WeightedRandomSampler(final_weights, len(final_weights))\n",
    "\n",
    "\n",
    "batch_size=64\n",
    "train_loader = DataLoader(activity_dataset(x_train_finetuning,y_train_finetuning), shuffle=False, batch_size=batch_size,sampler=sampler)\n",
    "validation_loader = DataLoader(activity_dataset(x_val_finetuning,y_val_finetuning), shuffle=False, batch_size=batch_size)\n",
    "test_loader = DataLoader(activity_dataset(x_test_finetuning,y_test_finetuning), shuffle=False, batch_size=batch_size)\n",
    "lr = 0.001\n",
    "best_acc = 0\n",
    "model = LSTM_Classifier(dropout=0.75,num_layers=5)\n",
    "model.load_state_dict(torch.load(\"model_pretraining_weighted_23.pth\"))\n",
    "model.to(device)\n",
    "criterion = nn.CrossEntropyLoss()\n",
    "optimizer = torch.optim.Adam(model.parameters(), lr=lr)\n",
    "save_each_epoch = True\n",
    "\n",
    "\n",
    "run = neptune.init(\n",
    "    project=\"astarteam/PDLW-assignment-2\",\n",
    "    api_token=\"eyJhcGlfYWRkcmVzcyI6Imh0dHBzOi8vYXBwLm5lcHR1bmUuYWkiLCJhcGlfdXJsIjoiaHR0cHM6Ly9hcHAubmVwdHVuZS5haSIsImFwaV9rZXkiOiJhMDI5YzIxMy00NjE1LTQ2MDUtOTk3NS1jNDJhMjIzZDE0NDMifQ==\",\n",
    ")  # your credentials\n",
    "run[\"algorithm\"] = \"LSTM-Finetuning-WeightedSamples\"\n",
    "\n",
    "params = {\"batch_size\": batch_size,\n",
    "        \"learning_rate\": lr, \n",
    "        \"optimizer\": \"CrossEntropyLoss\"}\n",
    "\n",
    "run[\"parameters\"] = params\n",
    "\n",
    "results = []\n",
    "# define the number of epochs and early stopping patience\n",
    "epochs = 50\n",
    "patience = 5\n",
    "best_loss = np.inf\n",
    "for epoch in range(epochs):\n",
    "    start_time = time.time()\n",
    "    train_loss, train_acc = train_loop(train_loader, model, device, criterion, optimizer)\n",
    "    total_train_time = (time.time() - start_time)/60\n",
    "    val_loss, val_acc = validation_loop(validation_loader, model, device, criterion)\n",
    "    run[\"train/accuracy\"].log(train_acc)\n",
    "    run[\"train/loss\"].log(train_loss)\n",
    "    run['train/run_time'].log(total_train_time)\n",
    "    run[\"validation/accuracy\"].log(val_acc)\n",
    "    run[\"validation/loss\"].log(val_loss)\n",
    "    results.append({'epoch_number':epoch,'train_loss':train_loss.detach().cpu().numpy(),'val_loss':val_loss,'train_acc':train_acc,'val_acc':val_acc, 'train_time':total_train_time})\n",
    "    # if the validation loss is the best seen so far, update the best loss and reset the early stopping counter\n",
    "    if val_loss < best_loss:\n",
    "        torch.save(model.state_dict(), f'model_pretraining_weighted_{epoch}.pth')\n",
    "        val_loss,val_acc = validation_loop(validation_loader, model, device, criterion)\n",
    "        best_loss = val_loss\n",
    "        early_stopping_counter = 0\n",
    "    # otherwise, increment the early stopping counter\n",
    "    else:\n",
    "        early_stopping_counter += 1     \n",
    "    # if the early stopping counter has reached the patience, stop training\n",
    "    if early_stopping_counter == patience:\n",
    "        break\n",
    "run.stop()\n",
    "\n",
    "import time\n",
    "pd.to_pickle(results,f\"C:\\\\Users\\\\nati\\\\Desktop\\\\New folder\\\\Results_LSTM_Finetuned_2{time.time()}.pickle\")\n",
    "\n"
   ]
  },
  {
   "cell_type": "code",
   "execution_count": 40,
   "metadata": {},
   "outputs": [
    {
     "data": {
      "text/plain": [
       "0.5862265224815025"
      ]
     },
     "metadata": {},
     "output_type": "display_data"
    },
    {
     "data": {
      "text/plain": [
       "array([[1281,    0,   51,  584,   77,    2,   28,    0,   54,   91,   66,\n",
       "          19,    0],\n",
       "       [   1,  480,    2,    0,    0,    0,    0,    0,    0,    0,    0,\n",
       "           0,    0],\n",
       "       [   0,    0,  111,  221,    0,    0,    0,    0,    0,    0,    5,\n",
       "           0,    0],\n",
       "       [   8,    0,    5,  480,    0,    0,    0,    0,    0,    0,    0,\n",
       "           1,    0],\n",
       "       [ 294,    0,    0,    3,  329,    0,    0,    0,   10,    2,    0,\n",
       "           0,    0],\n",
       "       [  38,    0,    0,    0,    4,   27,    0,    0,   25,   93,    0,\n",
       "           0,    0],\n",
       "       [  16,    0,    0,    0,    0,    0,  369,    0,    0,    0,   80,\n",
       "           1,    0],\n",
       "       [ 155,    0,    0,    1,    1,   64,    0,  209,    0,  130,    0,\n",
       "           0,    1],\n",
       "       [  76,    0,    0,    0,    0,    0,    0,    0,  165,    0,   37,\n",
       "           0,    0],\n",
       "       [  85,    0,    0,    1,    2,    0,    0,    0,    1,  109,    0,\n",
       "           0,    0],\n",
       "       [  37,    0,    9,   58,    0,    0,   30,    0,    1,    0,  277,\n",
       "          31,    0],\n",
       "       [  88,    3,   29,   73,    0,    0,   44,    0,    0,    0,   89,\n",
       "         283,    0],\n",
       "       [  26,    0,    0,    0,    0,    0,    0,    0,    9,   46,    0,\n",
       "           0,    0]], dtype=int64)"
      ]
     },
     "metadata": {},
     "output_type": "display_data"
    }
   ],
   "source": [
    "sample_loader = DataLoader(activity_dataset(x_test_finetuning,y_test_finetuning), shuffle=False, batch_size=batch_size)\n",
    "preds,gt = sampling_test(sample_loader,model,device)\n",
    "preds = np.concatenate(preds)\n",
    "gt = np.concatenate(gt)\n",
    "from sklearn.metrics import accuracy_score,confusion_matrix\n",
    "display(accuracy_score(gt,preds))\n",
    "display(confusion_matrix(gt,preds))"
   ]
  },
  {
   "cell_type": "code",
   "execution_count": 61,
   "metadata": {},
   "outputs": [
    {
     "name": "stdout",
     "output_type": "stream",
     "text": [
      "https://app.neptune.ai/astarteam/PDLW-assignment-2/e/PDLWAS-60\n",
      "Remember to stop your run once you’ve finished logging your metadata (https://docs.neptune.ai/api/run#stop). It will be stopped automatically only when the notebook kernel/interactive console is terminated.\n",
      "loss=3.083, 0 / 16763\n",
      "loss=1.974, 12800 / 16763\n",
      "accuracy = 0.18611309949892627, val_loss = 2.045121\n",
      "accuracy = 0.18611309949892627, val_loss = 2.045121\n",
      "loss=2.080, 0 / 16763\n",
      "loss=1.930, 12800 / 16763\n",
      "accuracy = 0.2335958005249344, val_loss = 1.842878\n",
      "accuracy = 0.2335958005249344, val_loss = 1.842878\n",
      "loss=1.742, 0 / 16763\n",
      "loss=1.206, 12800 / 16763\n",
      "accuracy = 0.2915771892149845, val_loss = 1.628604\n",
      "accuracy = 0.2915771892149845, val_loss = 1.628604\n",
      "loss=1.490, 0 / 16763\n",
      "loss=1.310, 12800 / 16763\n",
      "accuracy = 0.34836554521593893, val_loss = 1.601846\n",
      "accuracy = 0.34836554521593893, val_loss = 1.601846\n",
      "loss=1.360, 0 / 16763\n",
      "loss=1.134, 12800 / 16763\n",
      "accuracy = 0.3445478406108327, val_loss = 1.474161\n",
      "accuracy = 0.3445478406108327, val_loss = 1.474161\n",
      "loss=1.377, 0 / 16763\n",
      "loss=1.059, 12800 / 16763\n",
      "accuracy = 0.44380816034359344, val_loss = 1.340477\n",
      "accuracy = 0.44380816034359344, val_loss = 1.340477\n",
      "loss=0.979, 0 / 16763\n",
      "loss=0.953, 12800 / 16763\n",
      "accuracy = 0.4667143879742305, val_loss = 1.353086\n",
      "loss=1.376, 0 / 16763\n",
      "loss=0.845, 12800 / 16763\n",
      "accuracy = 0.4762586494869959, val_loss = 1.285217\n",
      "accuracy = 0.4762586494869959, val_loss = 1.285217\n",
      "loss=1.031, 0 / 16763\n",
      "loss=1.017, 12800 / 16763\n",
      "accuracy = 0.47816750178954903, val_loss = 1.348317\n",
      "loss=0.893, 0 / 16763\n",
      "loss=0.996, 12800 / 16763\n",
      "accuracy = 0.5826771653543307, val_loss = 1.100935\n",
      "accuracy = 0.5826771653543307, val_loss = 1.100935\n",
      "loss=0.601, 0 / 16763\n",
      "loss=0.631, 12800 / 16763\n",
      "accuracy = 0.5876879026485325, val_loss = 1.129271\n",
      "loss=0.575, 0 / 16763\n",
      "loss=0.833, 12800 / 16763\n",
      "accuracy = 0.6301598663803388, val_loss = 1.026365\n",
      "accuracy = 0.6301598663803388, val_loss = 1.026365\n",
      "loss=0.703, 0 / 16763\n",
      "loss=0.719, 12800 / 16763\n",
      "accuracy = 0.5824385588165115, val_loss = 1.029632\n",
      "loss=0.807, 0 / 16763\n",
      "loss=0.740, 12800 / 16763\n",
      "accuracy = 0.6382724886661895, val_loss = 1.141678\n",
      "loss=0.417, 0 / 16763\n",
      "loss=0.302, 12800 / 16763\n",
      "accuracy = 0.6213314244810307, val_loss = 1.088623\n",
      "loss=0.373, 0 / 16763\n",
      "loss=0.339, 12800 / 16763\n",
      "accuracy = 0.7263183011214507, val_loss = 0.757334\n",
      "accuracy = 0.7263183011214507, val_loss = 0.757334\n",
      "loss=0.273, 0 / 16763\n",
      "loss=0.377, 12800 / 16763\n",
      "accuracy = 0.6840849439274637, val_loss = 0.909856\n",
      "loss=0.585, 0 / 16763\n",
      "loss=0.280, 12800 / 16763\n",
      "accuracy = 0.6850393700787402, val_loss = 1.004211\n",
      "loss=0.407, 0 / 16763\n",
      "loss=0.854, 12800 / 16763\n",
      "accuracy = 0.6852779766165593, val_loss = 0.994406\n",
      "loss=0.342, 0 / 16763\n",
      "loss=0.194, 12800 / 16763\n",
      "accuracy = 0.7339537103316631, val_loss = 0.813947\n",
      "loss=0.339, 0 / 16763\n",
      "loss=0.279, 12800 / 16763\n",
      "accuracy = 0.7957528036268193, val_loss = 0.575843\n",
      "accuracy = 0.7957528036268193, val_loss = 0.575843\n",
      "loss=0.317, 0 / 16763\n",
      "loss=0.267, 12800 / 16763\n",
      "accuracy = 0.6740634693390599, val_loss = 1.099131\n",
      "loss=0.399, 0 / 16763\n",
      "loss=0.450, 12800 / 16763\n",
      "accuracy = 0.7633023144834169, val_loss = 0.679624\n",
      "loss=0.316, 0 / 16763\n",
      "loss=0.168, 12800 / 16763\n",
      "accuracy = 0.7821522309711286, val_loss = 0.674446\n",
      "loss=0.292, 0 / 16763\n",
      "loss=0.346, 12800 / 16763\n",
      "accuracy = 0.7938439513242663, val_loss = 0.640017\n",
      "loss=0.091, 0 / 16763\n",
      "loss=0.375, 12800 / 16763\n",
      "accuracy = 0.7115246957766643, val_loss = 0.937739\n",
      "Shutting down background jobs, please wait a moment...\n",
      "Done!\n",
      "Waiting for the remaining 8 operations to synchronize with Neptune. Do not kill this process.\n",
      "All 8 operations synced, thanks for waiting!\n",
      "Explore the metadata in the Neptune app:\n",
      "https://app.neptune.ai/astarteam/PDLW-assignment-2/e/PDLWAS-60\n"
     ]
    }
   ],
   "source": [
    "\n",
    "batch_size=64\n",
    "train_loader = DataLoader(activity_dataset(x_train_finetuning,y_train_finetuning), shuffle=False, batch_size=batch_size,sampler=sampler)\n",
    "validation_loader = DataLoader(activity_dataset(x_val_finetuning,y_val_finetuning), shuffle=False, batch_size=batch_size)\n",
    "test_loader = DataLoader(activity_dataset(x_test_finetuning,y_test_finetuning), shuffle=False, batch_size=batch_size)\n",
    "lr = 0.001\n",
    "best_acc = 0\n",
    "model = LSTM_Classifier(dropout=0.75,num_layers=5,hidden_dim=512)\n",
    "#model.load_state_dict(torch.load(\"model_pretraining_weighted_23.pth\"))\n",
    "model.to(device)\n",
    "criterion = nn.CrossEntropyLoss()\n",
    "optimizer = torch.optim.Adam(model.parameters(), lr=lr)\n",
    "save_each_epoch = True\n",
    "\n",
    "\n",
    "run = neptune.init(\n",
    "    project=\"astarteam/PDLW-assignment-2\",\n",
    "    api_token=\"eyJhcGlfYWRkcmVzcyI6Imh0dHBzOi8vYXBwLm5lcHR1bmUuYWkiLCJhcGlfdXJsIjoiaHR0cHM6Ly9hcHAubmVwdHVuZS5haSIsImFwaV9rZXkiOiJhMDI5YzIxMy00NjE1LTQ2MDUtOTk3NS1jNDJhMjIzZDE0NDMifQ==\",\n",
    ")  # your credentials\n",
    "run[\"algorithm\"] = \"LSTM-Finetuning-WeightedSamples\"\n",
    "\n",
    "params = {\"batch_size\": batch_size,\n",
    "        \"learning_rate\": lr, \n",
    "        \"optimizer\": \"CrossEntropyLoss\"}\n",
    "\n",
    "run[\"parameters\"] = params\n",
    "\n",
    "results = []\n",
    "# define the number of epochs and early stopping patience\n",
    "epochs = 50\n",
    "patience = 5\n",
    "best_loss = np.inf\n",
    "for epoch in range(epochs):\n",
    "    start_time = time.time()\n",
    "    train_loss, train_acc = train_loop(train_loader, model, device, criterion, optimizer)\n",
    "    total_train_time = (time.time() - start_time)/60\n",
    "    val_loss, val_acc = validation_loop(validation_loader, model, device, criterion)\n",
    "    run[\"train/accuracy\"].log(train_acc)\n",
    "    run[\"train/loss\"].log(train_loss)\n",
    "    run['train/run_time'].log(total_train_time)\n",
    "    run[\"validation/accuracy\"].log(val_acc)\n",
    "    run[\"validation/loss\"].log(val_loss)\n",
    "    results.append({'epoch_number':epoch,'train_loss':train_loss.detach().cpu().numpy(),'val_loss':val_loss,'train_acc':train_acc,'val_acc':val_acc, 'train_time':total_train_time})\n",
    "    # if the validation loss is the best seen so far, update the best loss and reset the early stopping counter\n",
    "    if val_loss < best_loss:\n",
    "        torch.save(model.state_dict(), f'model_pretraining_weighted__hidden_dim{epoch}.pth')\n",
    "        val_loss,val_acc = validation_loop(validation_loader, model, device, criterion)\n",
    "        best_loss = val_loss\n",
    "        early_stopping_counter = 0\n",
    "    # otherwise, increment the early stopping counter\n",
    "    else:\n",
    "        early_stopping_counter += 1     \n",
    "    # if the early stopping counter has reached the patience, stop training\n",
    "    if early_stopping_counter == patience:\n",
    "        break\n",
    "run.stop()\n",
    "\n",
    "import time\n",
    "pd.to_pickle(results,f\"C:\\\\Users\\\\nati\\\\Desktop\\\\New folder\\\\Results_LSTM_Finetuned_2{time.time()}.pickle\")\n",
    "\n"
   ]
  }
 ],
 "metadata": {
  "kernelspec": {
   "display_name": "cudaVenv",
   "language": "python",
   "name": "python3"
  },
  "language_info": {
   "codemirror_mode": {
    "name": "ipython",
    "version": 3
   },
   "file_extension": ".py",
   "mimetype": "text/x-python",
   "name": "python",
   "nbconvert_exporter": "python",
   "pygments_lexer": "ipython3",
   "version": "3.10.9 (tags/v3.10.9:1dd9be6, Dec  6 2022, 20:01:21) [MSC v.1934 64 bit (AMD64)]"
  },
  "orig_nbformat": 4,
  "vscode": {
   "interpreter": {
    "hash": "13a6d57e7566188474e7f7bd8eeb5a02477f0ef06cce5f5b09b8ea7ebdd261fa"
   }
  }
 },
 "nbformat": 4,
 "nbformat_minor": 2
}
