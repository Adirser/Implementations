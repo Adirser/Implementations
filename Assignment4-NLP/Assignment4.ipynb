{
 "cells": [
  {
   "cell_type": "code",
   "execution_count": 80,
   "metadata": {},
   "outputs": [],
   "source": [
    "import seaborn as sns\n",
    "import pandas as pd\n",
    "import torch\n",
    "import numpy as np\n",
    "import matplotlib.pyplot as plt\n",
    "import torch.nn as nn\n",
    "import torch.nn.functional as F\n",
    "import torch.optim as optim\n",
    "from torchsummary import summary\n",
    "pd.set_option(\"display.max_columns\",80)\n",
    "pd.set_option(\"display.max_rows\",80)\n",
    "import datetime as dt\n",
    "import warnings\n",
    "warnings.filterwarnings('ignore')\n",
    "%matplotlib inline\n",
    "import tqdm as notebook_tqdm\n",
    "device = torch.device(\"cuda\" if torch.cuda.is_available() else \"cpu\")\n",
    "from torch.utils.data import Dataset , DataLoader \n",
    "from sklearn.feature_extraction.text import TfidfVectorizer\n",
    "from tqdm import tqdm\n",
    "from sklearn.metrics import mean_squared_error as MSE \n",
    "from sklearn.metrics import mean_absolute_error as MAE\n",
    "import neptune.new as neptune\n",
    "from sklearn.metrics import mean_absolute_error, mean_squared_error, r2_score, explained_variance_score, max_error, mean_poisson_deviance, mean_gamma_deviance\n",
    "from torchvision.models.feature_extraction import create_feature_extractor,get_graph_node_names\n",
    "from sklearn.model_selection import GridSearchCV\n",
    "from xgboost import XGBRegressor\n",
    "from scipy import special,stats\n",
    "\n"
   ]
  },
  {
   "attachments": {},
   "cell_type": "markdown",
   "metadata": {},
   "source": [
    "## EDA and Understanding the DATA"
   ]
  },
  {
   "cell_type": "code",
   "execution_count": 81,
   "metadata": {},
   "outputs": [],
   "source": [
    "# Reading the data\n",
    "attributes_df = pd.read_csv(r\"C:\\Users\\nati\\Desktop\\Implementations\\Assignment4-NLP\\home-depot-product-search-relevance\\attributes.csv\\attributes.csv\")\n",
    "prod_desc_df = pd.read_csv(r\"C:\\Users\\nati\\Desktop\\Implementations\\Assignment4-NLP\\home-depot-product-search-relevance\\product_descriptions.csv\\product_descriptions.csv\")\n",
    "sample_sub_df = pd.read_csv(r\"C:\\Users\\nati\\Desktop\\Implementations\\Assignment4-NLP\\home-depot-product-search-relevance\\sample_submission.csv\\sample_submission.csv\")\n",
    "test_df = pd.read_csv(r\"C:\\Users\\nati\\Desktop\\Implementations\\Assignment4-NLP\\home-depot-product-search-relevance\\test.csv\\test.csv\",encoding=\"latin-1\")\n",
    "train_df = pd.read_csv(r\"C:\\Users\\nati\\Desktop\\Implementations\\Assignment4-NLP\\home-depot-product-search-relevance\\train.csv\\train.csv\",encoding=\"latin-1\")"
   ]
  },
  {
   "cell_type": "code",
   "execution_count": 82,
   "metadata": {},
   "outputs": [
    {
     "data": {
      "text/html": [
       "<div>\n",
       "<style scoped>\n",
       "    .dataframe tbody tr th:only-of-type {\n",
       "        vertical-align: middle;\n",
       "    }\n",
       "\n",
       "    .dataframe tbody tr th {\n",
       "        vertical-align: top;\n",
       "    }\n",
       "\n",
       "    .dataframe thead th {\n",
       "        text-align: right;\n",
       "    }\n",
       "</style>\n",
       "<table border=\"1\" class=\"dataframe\">\n",
       "  <thead>\n",
       "    <tr style=\"text-align: right;\">\n",
       "      <th></th>\n",
       "      <th>product_uid</th>\n",
       "      <th>name</th>\n",
       "      <th>value</th>\n",
       "    </tr>\n",
       "  </thead>\n",
       "  <tbody>\n",
       "    <tr>\n",
       "      <th>0</th>\n",
       "      <td>100001.0</td>\n",
       "      <td>Bullet01</td>\n",
       "      <td>Versatile connector for various 90° connection...</td>\n",
       "    </tr>\n",
       "    <tr>\n",
       "      <th>1</th>\n",
       "      <td>100001.0</td>\n",
       "      <td>Bullet02</td>\n",
       "      <td>Stronger than angled nailing or screw fastenin...</td>\n",
       "    </tr>\n",
       "    <tr>\n",
       "      <th>2</th>\n",
       "      <td>100001.0</td>\n",
       "      <td>Bullet03</td>\n",
       "      <td>Help ensure joints are consistently straight a...</td>\n",
       "    </tr>\n",
       "    <tr>\n",
       "      <th>3</th>\n",
       "      <td>100001.0</td>\n",
       "      <td>Bullet04</td>\n",
       "      <td>Dimensions: 3 in. x 3 in. x 1-1/2 in.</td>\n",
       "    </tr>\n",
       "    <tr>\n",
       "      <th>4</th>\n",
       "      <td>100001.0</td>\n",
       "      <td>Bullet05</td>\n",
       "      <td>Made from 12-Gauge steel</td>\n",
       "    </tr>\n",
       "  </tbody>\n",
       "</table>\n",
       "</div>"
      ],
      "text/plain": [
       "   product_uid      name                                              value\n",
       "0     100001.0  Bullet01  Versatile connector for various 90° connection...\n",
       "1     100001.0  Bullet02  Stronger than angled nailing or screw fastenin...\n",
       "2     100001.0  Bullet03  Help ensure joints are consistently straight a...\n",
       "3     100001.0  Bullet04              Dimensions: 3 in. x 3 in. x 1-1/2 in.\n",
       "4     100001.0  Bullet05                           Made from 12-Gauge steel"
      ]
     },
     "metadata": {},
     "output_type": "display_data"
    },
    {
     "data": {
      "text/html": [
       "<div>\n",
       "<style scoped>\n",
       "    .dataframe tbody tr th:only-of-type {\n",
       "        vertical-align: middle;\n",
       "    }\n",
       "\n",
       "    .dataframe tbody tr th {\n",
       "        vertical-align: top;\n",
       "    }\n",
       "\n",
       "    .dataframe thead th {\n",
       "        text-align: right;\n",
       "    }\n",
       "</style>\n",
       "<table border=\"1\" class=\"dataframe\">\n",
       "  <thead>\n",
       "    <tr style=\"text-align: right;\">\n",
       "      <th></th>\n",
       "      <th>product_uid</th>\n",
       "      <th>product_description</th>\n",
       "    </tr>\n",
       "  </thead>\n",
       "  <tbody>\n",
       "    <tr>\n",
       "      <th>0</th>\n",
       "      <td>100001</td>\n",
       "      <td>Not only do angles make joints stronger, they ...</td>\n",
       "    </tr>\n",
       "    <tr>\n",
       "      <th>1</th>\n",
       "      <td>100002</td>\n",
       "      <td>BEHR Premium Textured DECKOVER is an innovativ...</td>\n",
       "    </tr>\n",
       "    <tr>\n",
       "      <th>2</th>\n",
       "      <td>100003</td>\n",
       "      <td>Classic architecture meets contemporary design...</td>\n",
       "    </tr>\n",
       "    <tr>\n",
       "      <th>3</th>\n",
       "      <td>100004</td>\n",
       "      <td>The Grape Solar 265-Watt Polycrystalline PV So...</td>\n",
       "    </tr>\n",
       "    <tr>\n",
       "      <th>4</th>\n",
       "      <td>100005</td>\n",
       "      <td>Update your bathroom with the Delta Vero Singl...</td>\n",
       "    </tr>\n",
       "  </tbody>\n",
       "</table>\n",
       "</div>"
      ],
      "text/plain": [
       "   product_uid                                product_description\n",
       "0       100001  Not only do angles make joints stronger, they ...\n",
       "1       100002  BEHR Premium Textured DECKOVER is an innovativ...\n",
       "2       100003  Classic architecture meets contemporary design...\n",
       "3       100004  The Grape Solar 265-Watt Polycrystalline PV So...\n",
       "4       100005  Update your bathroom with the Delta Vero Singl..."
      ]
     },
     "metadata": {},
     "output_type": "display_data"
    },
    {
     "data": {
      "text/html": [
       "<div>\n",
       "<style scoped>\n",
       "    .dataframe tbody tr th:only-of-type {\n",
       "        vertical-align: middle;\n",
       "    }\n",
       "\n",
       "    .dataframe tbody tr th {\n",
       "        vertical-align: top;\n",
       "    }\n",
       "\n",
       "    .dataframe thead th {\n",
       "        text-align: right;\n",
       "    }\n",
       "</style>\n",
       "<table border=\"1\" class=\"dataframe\">\n",
       "  <thead>\n",
       "    <tr style=\"text-align: right;\">\n",
       "      <th></th>\n",
       "      <th>id</th>\n",
       "      <th>relevance</th>\n",
       "    </tr>\n",
       "  </thead>\n",
       "  <tbody>\n",
       "    <tr>\n",
       "      <th>0</th>\n",
       "      <td>1</td>\n",
       "      <td>1</td>\n",
       "    </tr>\n",
       "    <tr>\n",
       "      <th>1</th>\n",
       "      <td>4</td>\n",
       "      <td>1</td>\n",
       "    </tr>\n",
       "    <tr>\n",
       "      <th>2</th>\n",
       "      <td>5</td>\n",
       "      <td>1</td>\n",
       "    </tr>\n",
       "    <tr>\n",
       "      <th>3</th>\n",
       "      <td>6</td>\n",
       "      <td>1</td>\n",
       "    </tr>\n",
       "    <tr>\n",
       "      <th>4</th>\n",
       "      <td>7</td>\n",
       "      <td>1</td>\n",
       "    </tr>\n",
       "  </tbody>\n",
       "</table>\n",
       "</div>"
      ],
      "text/plain": [
       "   id  relevance\n",
       "0   1          1\n",
       "1   4          1\n",
       "2   5          1\n",
       "3   6          1\n",
       "4   7          1"
      ]
     },
     "metadata": {},
     "output_type": "display_data"
    },
    {
     "data": {
      "text/html": [
       "<div>\n",
       "<style scoped>\n",
       "    .dataframe tbody tr th:only-of-type {\n",
       "        vertical-align: middle;\n",
       "    }\n",
       "\n",
       "    .dataframe tbody tr th {\n",
       "        vertical-align: top;\n",
       "    }\n",
       "\n",
       "    .dataframe thead th {\n",
       "        text-align: right;\n",
       "    }\n",
       "</style>\n",
       "<table border=\"1\" class=\"dataframe\">\n",
       "  <thead>\n",
       "    <tr style=\"text-align: right;\">\n",
       "      <th></th>\n",
       "      <th>id</th>\n",
       "      <th>product_uid</th>\n",
       "      <th>product_title</th>\n",
       "      <th>search_term</th>\n",
       "    </tr>\n",
       "  </thead>\n",
       "  <tbody>\n",
       "    <tr>\n",
       "      <th>0</th>\n",
       "      <td>1</td>\n",
       "      <td>100001</td>\n",
       "      <td>Simpson Strong-Tie 12-Gauge Angle</td>\n",
       "      <td>90 degree bracket</td>\n",
       "    </tr>\n",
       "    <tr>\n",
       "      <th>1</th>\n",
       "      <td>4</td>\n",
       "      <td>100001</td>\n",
       "      <td>Simpson Strong-Tie 12-Gauge Angle</td>\n",
       "      <td>metal l brackets</td>\n",
       "    </tr>\n",
       "    <tr>\n",
       "      <th>2</th>\n",
       "      <td>5</td>\n",
       "      <td>100001</td>\n",
       "      <td>Simpson Strong-Tie 12-Gauge Angle</td>\n",
       "      <td>simpson sku able</td>\n",
       "    </tr>\n",
       "    <tr>\n",
       "      <th>3</th>\n",
       "      <td>6</td>\n",
       "      <td>100001</td>\n",
       "      <td>Simpson Strong-Tie 12-Gauge Angle</td>\n",
       "      <td>simpson strong  ties</td>\n",
       "    </tr>\n",
       "    <tr>\n",
       "      <th>4</th>\n",
       "      <td>7</td>\n",
       "      <td>100001</td>\n",
       "      <td>Simpson Strong-Tie 12-Gauge Angle</td>\n",
       "      <td>simpson strong tie hcc668</td>\n",
       "    </tr>\n",
       "  </tbody>\n",
       "</table>\n",
       "</div>"
      ],
      "text/plain": [
       "   id  product_uid                      product_title  \\\n",
       "0   1       100001  Simpson Strong-Tie 12-Gauge Angle   \n",
       "1   4       100001  Simpson Strong-Tie 12-Gauge Angle   \n",
       "2   5       100001  Simpson Strong-Tie 12-Gauge Angle   \n",
       "3   6       100001  Simpson Strong-Tie 12-Gauge Angle   \n",
       "4   7       100001  Simpson Strong-Tie 12-Gauge Angle   \n",
       "\n",
       "                 search_term  \n",
       "0          90 degree bracket  \n",
       "1           metal l brackets  \n",
       "2           simpson sku able  \n",
       "3       simpson strong  ties  \n",
       "4  simpson strong tie hcc668  "
      ]
     },
     "metadata": {},
     "output_type": "display_data"
    },
    {
     "data": {
      "text/html": [
       "<div>\n",
       "<style scoped>\n",
       "    .dataframe tbody tr th:only-of-type {\n",
       "        vertical-align: middle;\n",
       "    }\n",
       "\n",
       "    .dataframe tbody tr th {\n",
       "        vertical-align: top;\n",
       "    }\n",
       "\n",
       "    .dataframe thead th {\n",
       "        text-align: right;\n",
       "    }\n",
       "</style>\n",
       "<table border=\"1\" class=\"dataframe\">\n",
       "  <thead>\n",
       "    <tr style=\"text-align: right;\">\n",
       "      <th></th>\n",
       "      <th>id</th>\n",
       "      <th>product_uid</th>\n",
       "      <th>product_title</th>\n",
       "      <th>search_term</th>\n",
       "      <th>relevance</th>\n",
       "    </tr>\n",
       "  </thead>\n",
       "  <tbody>\n",
       "    <tr>\n",
       "      <th>0</th>\n",
       "      <td>2</td>\n",
       "      <td>100001</td>\n",
       "      <td>Simpson Strong-Tie 12-Gauge Angle</td>\n",
       "      <td>angle bracket</td>\n",
       "      <td>3.00</td>\n",
       "    </tr>\n",
       "    <tr>\n",
       "      <th>1</th>\n",
       "      <td>3</td>\n",
       "      <td>100001</td>\n",
       "      <td>Simpson Strong-Tie 12-Gauge Angle</td>\n",
       "      <td>l bracket</td>\n",
       "      <td>2.50</td>\n",
       "    </tr>\n",
       "    <tr>\n",
       "      <th>2</th>\n",
       "      <td>9</td>\n",
       "      <td>100002</td>\n",
       "      <td>BEHR Premium Textured DeckOver 1-gal. #SC-141 ...</td>\n",
       "      <td>deck over</td>\n",
       "      <td>3.00</td>\n",
       "    </tr>\n",
       "    <tr>\n",
       "      <th>3</th>\n",
       "      <td>16</td>\n",
       "      <td>100005</td>\n",
       "      <td>Delta Vero 1-Handle Shower Only Faucet Trim Ki...</td>\n",
       "      <td>rain shower head</td>\n",
       "      <td>2.33</td>\n",
       "    </tr>\n",
       "    <tr>\n",
       "      <th>4</th>\n",
       "      <td>17</td>\n",
       "      <td>100005</td>\n",
       "      <td>Delta Vero 1-Handle Shower Only Faucet Trim Ki...</td>\n",
       "      <td>shower only faucet</td>\n",
       "      <td>2.67</td>\n",
       "    </tr>\n",
       "  </tbody>\n",
       "</table>\n",
       "</div>"
      ],
      "text/plain": [
       "   id  product_uid                                      product_title  \\\n",
       "0   2       100001                  Simpson Strong-Tie 12-Gauge Angle   \n",
       "1   3       100001                  Simpson Strong-Tie 12-Gauge Angle   \n",
       "2   9       100002  BEHR Premium Textured DeckOver 1-gal. #SC-141 ...   \n",
       "3  16       100005  Delta Vero 1-Handle Shower Only Faucet Trim Ki...   \n",
       "4  17       100005  Delta Vero 1-Handle Shower Only Faucet Trim Ki...   \n",
       "\n",
       "          search_term  relevance  \n",
       "0       angle bracket       3.00  \n",
       "1           l bracket       2.50  \n",
       "2           deck over       3.00  \n",
       "3    rain shower head       2.33  \n",
       "4  shower only faucet       2.67  "
      ]
     },
     "metadata": {},
     "output_type": "display_data"
    }
   ],
   "source": [
    "display(attributes_df.head(),prod_desc_df.head(),sample_sub_df.head(),test_df.head(),train_df.head())"
   ]
  },
  {
   "cell_type": "code",
   "execution_count": 83,
   "metadata": {},
   "outputs": [],
   "source": [
    "train_df = pd.merge(prod_desc_df,train_df,left_on=prod_desc_df[\"product_uid\"],right_on = train_df[\"product_uid\"])\n",
    "test_df = pd.merge(prod_desc_df,test_df,left_on=prod_desc_df[\"product_uid\"],right_on = test_df[\"product_uid\"])"
   ]
  },
  {
   "cell_type": "code",
   "execution_count": 99,
   "metadata": {},
   "outputs": [],
   "source": [
    "def split_data(df,train_ratio):\n",
    "    size = int(np.floor(train_ratio*len(df)))\n",
    "    train_df = df[:size]\n",
    "    val_df = df[size:]\n",
    "    return train_df,val_df\n",
    "\n",
    "def length_histogram(df,col):\n",
    "# Length of characters per search phrase\n",
    "    lengths = []\n",
    "    for term in df[col]:\n",
    "        lengths.append(len(term))\n",
    "    print(f\"Maximum searchterm Length is {max(lengths)}\")\n",
    "    print(f\"Minimum searchterm Length is {min(lengths)}\")\n",
    "    print(f\"Average searchterm Length is {np.mean(lengths)}\")\n",
    "\n",
    "    x,y = np.unique(lengths,return_counts=True)\n",
    "    plt.title(f\"{col} Length's Plot\")\n",
    "    plt.ylabel(\"Counts\")\n",
    "    plt.xlabel(\"Lengths\")\n",
    "    plt.bar(x,y,color = [0.99,0.7,0.3,0.7])\n",
    "\n",
    "def create_feature_extractor(model, train_dataloader,device):\n",
    "    # Iterate over batches\n",
    "    output_list = []\n",
    "    labels = []\n",
    "    with torch.no_grad():\n",
    "        for i, (title, term, label) in enumerate(train_dataloader, 0):\n",
    "            title,term,label = title.to(device), term.to(device), label.to(device)\n",
    "            output_1, output_2,pred = net(title.float(), term.float())\n",
    "            output = torch.cat((output_1.detach().cpu(), output_2.detach().cpu()),dim=1)\n",
    "            output = output.view(-1,32)\n",
    "            output_list.append(output)\n",
    "            labels.append(label.detach().cpu())\n",
    "\n",
    "        output_list = torch.cat((output_list),dim=0)\n",
    "        labels = torch.cat((labels),dim=0)\n",
    "        final = torch.cat((output_list,labels), dim = 1)\n",
    "        cols = [f\"feature_{x}\" for x in range(final.size(1))]\n",
    "        cols[-1] = \"Target\"\n",
    "    return pd.DataFrame(data = final.numpy(),columns=cols)\n",
    "\n",
    "train_df , val_df = split_data(train_df,0.75)\n"
   ]
  },
  {
   "cell_type": "code",
   "execution_count": 85,
   "metadata": {},
   "outputs": [
    {
     "data": {
      "text/plain": [
       "<BarContainer object of 2 artists>"
      ]
     },
     "execution_count": 85,
     "metadata": {},
     "output_type": "execute_result"
    },
    {
     "data": {
      "image/png": "[encoded data removed]",
      "text/plain": [
       "<Figure size 640x480 with 1 Axes>"
      ]
     },
     "metadata": {},
     "output_type": "display_data"
    }
   ],
   "source": [
    "# Samples Count\n",
    "plt.bar(x=[\"Train Samples\",\"Test Samples\"],height=[len(train_df),len(test_df)],color = [\"green\",\"blue\"])"
   ]
  },
  {
   "cell_type": "code",
   "execution_count": 86,
   "metadata": {},
   "outputs": [
    {
     "data": {
      "text/plain": [
       "<AxesSubplot: title={'center': 'Train Balance Plot'}>"
      ]
     },
     "execution_count": 86,
     "metadata": {},
     "output_type": "execute_result"
    },
    {
     "data": {
      "image/png": "[encoded data removed]",
      "text/plain": [
       "<Figure size 640x480 with 1 Axes>"
      ]
     },
     "metadata": {},
     "output_type": "display_data"
    }
   ],
   "source": [
    "#Checking the balance of our dataset\n",
    "train_df[\"relevance\"].value_counts().plot(kind=\"barh\",title=\"Train Balance Plot\")"
   ]
  },
  {
   "cell_type": "code",
   "execution_count": 87,
   "metadata": {},
   "outputs": [
    {
     "name": "stdout",
     "output_type": "stream",
     "text": [
      "Maximum searchterm Length is 60\n",
      "Minimum searchterm Length is 2\n",
      "Average searchterm Length is 17.9414401440144\n"
     ]
    },
    {
     "data": {
      "image/png": "[encoded data removed]",
      "text/plain": [
       "<Figure size 640x480 with 1 Axes>"
      ]
     },
     "metadata": {},
     "output_type": "display_data"
    }
   ],
   "source": [
    "length_histogram(train_df,\"search_term\")"
   ]
  },
  {
   "cell_type": "code",
   "execution_count": 88,
   "metadata": {},
   "outputs": [
    {
     "name": "stdout",
     "output_type": "stream",
     "text": [
      "Maximum searchterm Length is 5516\n",
      "Minimum searchterm Length is 153\n",
      "Average searchterm Length is 896.2251305130513\n"
     ]
    },
    {
     "data": {
      "image/png": "[encoded data removed]",
      "text/plain": [
       "<Figure size 640x480 with 1 Axes>"
      ]
     },
     "metadata": {},
     "output_type": "display_data"
    }
   ],
   "source": [
    "length_histogram(train_df,\"product_description\")"
   ]
  },
  {
   "attachments": {},
   "cell_type": "markdown",
   "metadata": {},
   "source": [
    "# 1)a. Preprocessing words to sequences of characters"
   ]
  },
  {
   "cell_type": "code",
   "execution_count": 89,
   "metadata": {},
   "outputs": [],
   "source": [
    "import torch.nn.utils\n",
    "\n",
    "def preprocess(data):\n",
    "    # Convert the list of words into a sequence of characters\n",
    "    first = torch.zeros(100)\n",
    "    seq = [first]\n",
    "    for sentence in data:\n",
    "        characters = [ord(str.lower(x)) for x in sentence[:100] if x != \" \"]\n",
    "        characters=torch.tensor(characters)\n",
    "        seq.append(characters)\n",
    "\n",
    "    padded = nn.utils.rnn.pad_sequence(seq,batch_first=True)\n",
    "    print(padded.size())\n",
    "    return padded"
   ]
  },
  {
   "attachments": {},
   "cell_type": "markdown",
   "metadata": {},
   "source": [
    "### 1.b Construct and train Siamese network (inputs are search term and product_titles and label is relevance (output of the network will be the\n",
    "### predicted relevance))"
   ]
  },
  {
   "cell_type": "code",
   "execution_count": 91,
   "metadata": {},
   "outputs": [],
   "source": [
    "def letter_percentage(df,col):\n",
    "    sample = preprocess(df[col].to_numpy())\n",
    "    sample = sample.flatten(0)\n",
    "    sample = pd.DataFrame(sample.numpy(),columns = [\"letter\"])\n",
    "    print(sample.value_counts(normalize=True)*100)\n",
    "    "
   ]
  },
  {
   "cell_type": "code",
   "execution_count": 92,
   "metadata": {},
   "outputs": [
    {
     "name": "stdout",
     "output_type": "stream",
     "text": [
      "torch.Size([55551, 100])\n",
      "letter\n",
      "0.0       15.860381\n",
      "101.0      9.189466\n",
      "116.0      7.019334\n",
      "97.0       6.412414\n",
      "105.0      6.354575\n",
      "111.0      5.736242\n",
      "114.0      5.591114\n",
      "115.0      5.171194\n",
      "110.0      5.113679\n",
      "108.0      4.175784\n",
      "104.0      3.233425\n",
      "100.0      3.134255\n",
      "99.0       2.961513\n",
      "117.0      2.422315\n",
      "112.0      1.996562\n",
      "102.0      1.885493\n",
      "109.0      1.875268\n",
      "103.0      1.772803\n",
      "119.0      1.349229\n",
      "121.0      1.308707\n",
      "98.0       1.265306\n",
      "46.0       0.878400\n",
      "118.0      0.805458\n",
      "45.0       0.651869\n",
      "107.0      0.642167\n",
      "44.0       0.405537\n",
      "120.0      0.353351\n",
      "49.0       0.345448\n",
      "48.0       0.313280\n",
      "50.0       0.276035\n",
      "52.0       0.179961\n",
      "51.0       0.170888\n",
      "53.0       0.133481\n",
      "47.0       0.131015\n",
      "113.0      0.122770\n",
      "122.0      0.116686\n",
      "56.0       0.116398\n",
      "54.0       0.110403\n",
      "106.0      0.088261\n",
      "39.0       0.086821\n",
      "55.0       0.056885\n",
      "40.0       0.046912\n",
      "57.0       0.043096\n",
      "41.0       0.042393\n",
      "38.0       0.009109\n",
      "37.0       0.008875\n",
      "43.0       0.007903\n",
      "35.0       0.006607\n",
      "34.0       0.006409\n",
      "58.0       0.005166\n",
      "59.0       0.003276\n",
      "33.0       0.001818\n",
      "63.0       0.001458\n",
      "95.0       0.001098\n",
      "36.0       0.000828\n",
      "42.0       0.000666\n",
      "93.0       0.000090\n",
      "91.0       0.000090\n",
      "92.0       0.000036\n",
      "dtype: float64\n"
     ]
    }
   ],
   "source": [
    "letter_percentage(train_df,\"product_description\")"
   ]
  },
  {
   "cell_type": "code",
   "execution_count": 93,
   "metadata": {},
   "outputs": [
    {
     "name": "stdout",
     "output_type": "stream",
     "text": [
      "torch.Size([55551, 100])\n",
      "torch.Size([55551, 100])\n",
      "torch.Size([18518, 100])\n",
      "torch.Size([18518, 100])\n"
     ]
    }
   ],
   "source": [
    "\n",
    "class SiameseDataset(Dataset):\n",
    "    def __init__(self,train_df,train=True):\n",
    "        self.train = train\n",
    "        self.train_df = train_df\n",
    "        self.product_titles_seq = preprocess(train_df[\"product_description\"].to_numpy()).unsqueeze(2)\n",
    "        self.search_terms_seq = preprocess(train_df[\"search_term\"].to_numpy()).unsqueeze(2)\n",
    "        if train:\n",
    "            self.labels = torch.tensor(train_df[\"relevance\"].to_numpy()).unsqueeze(1)\n",
    "\n",
    "    def __len__(self):\n",
    "        return len(self.train_df)\n",
    "\n",
    "    def __getitem__(self,idx):\n",
    "        if self.train:\n",
    "            return self.product_titles_seq[idx],self.search_terms_seq[idx],self.labels[idx]\n",
    "        else:\n",
    "            return self.product_titles_seq[idx],self.search_terms_seq[idx]\n",
    "\n",
    "\n",
    "\n",
    "train_dataloader = DataLoader(SiameseDataset(train_df=train_df),batch_size=256,shuffle=False)\n",
    "valid_dataloader = DataLoader(SiameseDataset(train_df=val_df),batch_size=256,shuffle=False)\n"
   ]
  },
  {
   "cell_type": "code",
   "execution_count": 94,
   "metadata": {},
   "outputs": [
    {
     "data": {
      "text/plain": [
       "(torch.Size([256, 100, 1]), torch.Size([256, 100, 1]), torch.Size([256, 1]))"
      ]
     },
     "execution_count": 94,
     "metadata": {},
     "output_type": "execute_result"
    }
   ],
   "source": [
    "title,term,label = next(iter(train_dataloader))\n",
    "title.shape,term.shape,label.shape"
   ]
  },
  {
   "cell_type": "code",
   "execution_count": 95,
   "metadata": {},
   "outputs": [],
   "source": [
    "#create the Siamese Neural Network\n",
    "class SiameseNetwork(nn.Module):\n",
    "\n",
    "    def __init__(self,n_hidden,n_layers,n_features):\n",
    "        super(SiameseNetwork, self).__init__()\n",
    "        self.n_hidden = n_hidden\n",
    "        self.n_layers = n_layers\n",
    "        self.n_features = n_features\n",
    "        # Setting up the Sequential of CNN Layers\n",
    "        \n",
    "        self.lstm = nn.LSTM(\n",
    "            input_size = n_features,\n",
    "            hidden_size = n_hidden,\n",
    "            batch_first = True,\n",
    "            num_layers = n_layers,\n",
    "            bidirectional = True\n",
    "        )\n",
    "        \n",
    "        self.regressor = nn.Linear(n_hidden,16)\n",
    "        \n",
    "    def forward_once(self, x):\n",
    "        # This function will be called for both images\n",
    "        # It's output is used to determine the similiarity\n",
    "        _,(h_n,_) = self.lstm(x)\n",
    "        output = self.regressor(h_n[-1,:,:])\n",
    "        # print(f\"This is output fro regressor {output.shape}\")\n",
    "        return output\n",
    "    \n",
    "\n",
    "    def forward(self, input1, input2):\n",
    "        # In this function we pass in both images and obtain both vectors\n",
    "        # which are returned\n",
    "        output1 = self.forward_once(input1)\n",
    "        output2 = self.forward_once(input2)\n",
    "        pred = F.cosine_similarity(output1,output2) + 2 \n",
    "        return output1, output2, pred\n",
    "\n",
    "# Define the Contrastive Loss Function as pytorch class\n",
    "class ContrastiveLoss(torch.nn.Module):\n",
    "    def __init__(self):\n",
    "        super(ContrastiveLoss, self).__init__()\n",
    "\n",
    "    def forward(self, output1, output2, label):\n",
    "      # Calculate the euclidian distance and calculate the contrastive loss\n",
    "      cosine_similarity = F.cosine_similarity(output1,output2)\n",
    "      loss_contrastive = torch.mean(label*torch.pow(1-cosine_similarity,2) + (3-label)*torch.pow(cosine_similarity,2))            \n",
    "      return loss_contrastive"
   ]
  },
  {
   "cell_type": "code",
   "execution_count": 96,
   "metadata": {},
   "outputs": [],
   "source": [
    "lr = 0.01\n",
    "n_hidden = 16\n",
    "n_layers = 1\n",
    "n_features = 1\n",
    "net = SiameseNetwork(n_hidden,n_layers,n_features).to(device=device)\n",
    "criterion = ContrastiveLoss()\n",
    "optimizer = optim.Adam(net.parameters(), lr = lr)"
   ]
  },
  {
   "cell_type": "code",
   "execution_count": 57,
   "metadata": {},
   "outputs": [
    {
     "name": "stdout",
     "output_type": "stream",
     "text": [
      "https://app.neptune.ai/astarteam/PDLW-assignment-4/e/PDLWAS1-49\n",
      "Remember to stop your run once you’ve finished logging your metadata (https://docs.neptune.ai/api/run#stop). It will be stopped automatically only when the notebook kernel/interactive console is terminated.\n",
      "Epoch number 0\n",
      " Current train loss 0.5671485660821118\n",
      "\n",
      "Epoch number 0\n",
      " Current train loss 0.47927039684346295\n",
      "\n",
      "Epoch number 0\n",
      " Current validation loss 0.4500130220033644\n",
      "\n",
      "Epoch number 1\n",
      " Current train loss 0.4656061635311819\n",
      "\n",
      "Epoch number 1\n",
      " Current train loss 0.47566309036122223\n",
      "\n",
      "Epoch number 1\n",
      " Current validation loss 0.45002528559260224\n",
      "\n",
      "Epoch number 2\n",
      " Current train loss 0.4642884063989835\n",
      "\n",
      "Epoch number 2\n",
      " Current train loss 0.47599253724106805\n",
      "\n",
      "Epoch number 2\n",
      " Current validation loss 0.45007843943826453\n",
      "\n",
      "Epoch number 3\n",
      " Current train loss 0.46432275361486747\n",
      "\n",
      "Epoch number 3\n",
      " Current train loss 0.47607192824536243\n",
      "\n",
      "Epoch number 3\n",
      " Current validation loss 0.4500850726394351\n",
      "\n",
      "Epoch number 4\n",
      " Current train loss 0.4643324441350798\n",
      "\n",
      "Epoch number 4\n",
      " Current train loss 0.47609445974250997\n",
      "\n",
      "Epoch number 4\n",
      " Current validation loss 0.45004011967130053\n",
      "\n",
      "Shutting down background jobs, please wait a moment...\n",
      "Done!\n",
      "Waiting for the remaining 31 operations to synchronize with Neptune. Do not kill this process.\n",
      "All 31 operations synced, thanks for waiting!\n",
      "Explore the metadata in the Neptune app:\n",
      "https://app.neptune.ai/astarteam/PDLW-assignment-4/e/PDLWAS1-49\n"
     ]
    }
   ],
   "source": [
    "from sklearn.metrics import mean_absolute_percentage_error as MAPE\n",
    "\n",
    "run = neptune.init_run(\n",
    "    project=\"astarteam/PDLW-assignment-4\",\n",
    "    api_token=\"eyJhcGlfYWRkcmVzcyI6Imh0dHBzOi8vYXBwLm5lcHR1bmUuYWkiLCJhcGlfdXJsIjoiaHR0cHM6Ly9hcHAubmVwdHVuZS5haSIsImFwaV9rZXkiOiI3Y2Y1YTE5OC1hNzhhLTQwNjctYjgyZS03Y2Y1MzU5ZDg1YjYifQ==\")\n",
    "    \n",
    "params = {\"learning_rate\": lr,'n_hidden': n_hidden,'n_layers':n_layers, 'n_features' :n_features,'sequence_length': title.size(1),\n",
    "        'model':'LSTM with character level input'}\n",
    "\n",
    "run[\"parameters\"] = params\n",
    "train_dataset_size = len(train_dataloader.dataset)\n",
    "valid_dataset_size = len(valid_dataloader.dataset)\n",
    "\n",
    "for epoch in range(5):\n",
    "    train_loss, train_mse, train_mae,train_rmse,train_mape = 0, 0, 0,0,0\n",
    "    val_loss, val_mse, val_mae, val_rmse,val_mape = 0, 0, 0, 0,0\n",
    "    # train loop\n",
    "    net.train()\n",
    "    for i, (title, term, label) in enumerate(train_dataloader, 0):\n",
    "        title,term,label = title.to(device), term.to(device), label.to(device)\n",
    "        optimizer.zero_grad()\n",
    "        output1, output2,pred = net(title, term)\n",
    "        loss_contrastive = criterion(output1, output2, label)\n",
    "        train_loss += loss_contrastive\n",
    "        loss_contrastive.backward()\n",
    "        optimizer.step()\n",
    "        GT = label.detach().cpu().numpy()\n",
    "        pred = pred.detach().cpu().numpy()\n",
    "        train_mse += MSE(GT,pred)\n",
    "        train_rmse += MSE(GT,pred, squared=True)\n",
    "        train_mae += MAE(GT,pred)\n",
    "        train_mape += MAPE(GT,pred)\n",
    "\n",
    "        # Every 100 batches print out the loss\n",
    "        if i % 100 == 0 :\n",
    "            print(f\"Epoch number {epoch}\\n Current train loss {loss_contrastive.item()}\\n\")\n",
    "\n",
    "    run[\"train/MSE\"].log(train_mse/train_dataset_size)\n",
    "    run[\"train/RMSE\"].log(train_rmse/train_dataset_size)\n",
    "    run[\"train/MAPE\"].log(train_mape/train_dataset_size)\n",
    "    run[\"train/MAE\"].log(train_mae/train_dataset_size)\n",
    "    run[\"train/loss\"].log(train_loss/train_dataset_size)\n",
    "\n",
    "    # validation loop\n",
    "    with torch.no_grad():\n",
    "        net.eval()\n",
    "        for i, (title, term, label) in enumerate(valid_dataloader, 0):\n",
    "            title, term, label = title.to(device), term.to(device), label.to(device)\n",
    "            optimizer.zero_grad()\n",
    "            output1, output2, pred = net(title.float(), term.float())\n",
    "            loss_contrastive = criterion(output1, output2, label)\n",
    "            val_loss += loss_contrastive\n",
    "            GT = label.detach().cpu().numpy()\n",
    "            pred = pred.detach().cpu().numpy()\n",
    "            val_mse += MSE(GT,pred)\n",
    "            val_rmse += MSE(GT,pred, squared=True)\n",
    "            val_mae += MAE(GT,pred)\n",
    "            val_mape += MAPE(GT,pred)\n",
    "            # Every 100 batches print out the loss\n",
    "            if i % 100 == 0 :\n",
    "                print(f\"Epoch number {epoch}\\n Current validation loss {loss_contrastive.item()}\\n\")\n",
    "\n",
    "        run[\"val/MSE\"].log(val_mse/valid_dataset_size)\n",
    "        run[\"val/RMSE\"].log(val_rmse/valid_dataset_size)\n",
    "        run[\"val/MAPE\"].log(val_mape/valid_dataset_size)\n",
    "        run[\"val/MAE\"].log(val_mae/valid_dataset_size)\n",
    "        run[\"val/loss\"].log(val_loss/valid_dataset_size)\n",
    "\n",
    "run.stop()"
   ]
  },
  {
   "cell_type": "code",
   "execution_count": 58,
   "metadata": {},
   "outputs": [],
   "source": [
    "run.stop()"
   ]
  },
  {
   "attachments": {},
   "cell_type": "markdown",
   "metadata": {},
   "source": [
    "## 1).c Naive Baseline Model"
   ]
  },
  {
   "cell_type": "code",
   "execution_count": 100,
   "metadata": {},
   "outputs": [],
   "source": [
    "def plot_regression_metrics(ground_truth,preds):\n",
    "    # Compute the mean absolute error\n",
    "    mae = mean_absolute_error(ground_truth, preds)\n",
    "    # Compute the mean squared error\n",
    "    mse = mean_squared_error(ground_truth, preds)\n",
    "    # Compute the R^2 score\n",
    "    r2 = r2_score(ground_truth, preds)\n",
    "    # Compute the explained variance score\n",
    "    evs = explained_variance_score(ground_truth, preds)\n",
    "    # Compute the maximum error\n",
    "    max_err = max_error(ground_truth, preds)\n",
    "    # Compute the mean Poisson deviance\n",
    "    mpd = mean_poisson_deviance(ground_truth, preds)\n",
    "    # Compute the mean Gamma deviance\n",
    "    mgd = mean_gamma_deviance(ground_truth, preds)\n",
    "    # Define the metric names and values\n",
    "    metric_names = ['MAE', 'MSE', 'R2', 'EVS', 'Max Err', 'MPD', 'MGD']\n",
    "    metric_values = [mae, mse, r2, evs, max_err, mpd, mgd]\n",
    "    # Define a color scheme for the bars\n",
    "    colors = ['#E64B35', '#4DBBD5', '#00A087', '#3C5488', '#FDB813', '#949494', '#D0D0D0']\n",
    "    # Create a horizontal bar plot of the metrics\n",
    "    fig, ax = plt.subplots(figsize=(12, 4))\n",
    "    y_pos = np.arange(len(metric_names))\n",
    "    ax.barh(y_pos, metric_values, align='center', color=colors)\n",
    "    ax.set_yticks(y_pos)\n",
    "    ax.set_yticklabels(metric_names)\n",
    "    ax.invert_yaxis()  # labels read top-to-bottom\n",
    "    ax.set_xlabel('Value')\n",
    "    ax.set_title('Regression Metrics')\n",
    "    # Add the actual values to the bars\n",
    "    for i, v in enumerate(metric_values):\n",
    "        ax.text(v + 0.01, i, str(round(v, 3)), color='black', fontweight='bold')\n",
    "    plt.show()\n",
    "\n",
    "def plot_predicted_vs_actual(ground_truth,preds):\n",
    "    # Create a line plot of the predicted and actual values\n",
    "    fig, ax = plt.subplots(figsize=(8, 6))\n",
    "    ax.plot(ground_truth, label='Actual', color='blue')\n",
    "    ax.plot(preds, label='Predicted', color='green')\n",
    "    ax.legend(loc='upper left')\n",
    "    ax.set_xlabel('Sample')\n",
    "    ax.set_ylabel('Target')\n",
    "    ax.set_title('Predicted vs Actual')\n",
    "    plt.show()\n",
    "\n",
    "def plot_scatter_predicted_vs_actual(ground_truth,preds):\n",
    "    # Create a scatter plot of the predicted and actual values\n",
    "    fig, ax = plt.subplots(figsize=(8, 6))\n",
    "    ax.scatter(range(len(ground_truth)), ground_truth, label='Actual', color='blue')\n",
    "    ax.scatter(range(len(preds)), preds, label='Predicted', color='green')\n",
    "    ax.legend(loc='upper left')\n",
    "    ax.set_xlabel('Sample')\n",
    "    ax.set_ylabel('Target')\n",
    "    ax.set_title('Predicted vs Actual')\n",
    "    plt.show()\n"
   ]
  },
  {
   "cell_type": "code",
   "execution_count": 102,
   "metadata": {},
   "outputs": [],
   "source": [
    "\n",
    "#Creating N-Grams from characters\n",
    "def n_grams(sentence, n):\n",
    "    return [sentence[i:i+n] for i in range(len(sentence) - n + 1)]\n",
    "\n",
    "# IOU - Intersection over Union\n",
    "def jaccard_similarity(sentence1, sentence2, n):\n",
    "    n_grams1 = set(n_grams(sentence1, n))\n",
    "    n_grams2 = set(n_grams(sentence2, n))\n",
    "    # print(\"N-gram1 : \",n_grams1,\"N-gram2 : \", n_grams2)\n",
    "\n",
    "    intersection = n_grams1.intersection(n_grams2)\n",
    "    union = n_grams1.union(n_grams2)\n",
    "    # print(\"Intersection : \",intersection,\"Union : \", union)\n",
    "    return len(intersection) / len(union)\n",
    "\n",
    "def n_gram_base(df,n=2):\n",
    "    preds = []\n",
    "    ground_truth = []\n",
    "\n",
    "    for description,term,relevance in tqdm(zip(df[\"product_description\"],df[\"search_term\"],df[\"relevance\"])):\n",
    "        similarity = jaccard_similarity(description,term,n=n)\n",
    "        relevance_score = similarity*2 + 1\n",
    "        preds.append(relevance_score)\n",
    "        ground_truth.append(relevance)\n",
    "    return preds,ground_truth\n",
    "\n"
   ]
  },
  {
   "cell_type": "code",
   "execution_count": 25,
   "metadata": {},
   "outputs": [
    {
     "name": "stdout",
     "output_type": "stream",
     "text": [
      "N-gram1 :  {'eh', 'ha', 'he', 'ah'} N-gram2 :  {'eh', 'ha', 'he', 'ah'}\n",
      "Intersection :  {'eh', 'ha', 'he', 'ah'} Union :  {'ha', 'eh', 'ah', 'he'}\n",
      "3.0\n"
     ]
    }
   ],
   "source": [
    "similarity = jaccard_similarity(\"haheha\",\"hehahe\",n=2)\n",
    "print(similarity*2 + 1)"
   ]
  },
  {
   "cell_type": "code",
   "execution_count": 106,
   "metadata": {},
   "outputs": [
    {
     "name": "stderr",
     "output_type": "stream",
     "text": [
      "31246it [00:02, 10500.63it/s]\n"
     ]
    },
    {
     "data": {
      "image/png": "[encoded data removed]",
      "text/plain": [
       "<Figure size 1200x400 with 1 Axes>"
      ]
     },
     "metadata": {},
     "output_type": "display_data"
    }
   ],
   "source": [
    "preds,ground_truth = n_gram_base(df=train_df,n =2)\n",
    "plot_regression_metrics(ground_truth,preds)"
   ]
  },
  {
   "attachments": {},
   "cell_type": "markdown",
   "metadata": {},
   "source": [
    "# 1) d. Using memory embedding of the LSTM as feature as inputs for XGBoost and SVM"
   ]
  },
  {
   "cell_type": "code",
   "execution_count": 59,
   "metadata": {},
   "outputs": [],
   "source": [
    "df = create_feature_extractor(model=net,train_dataloader=train_dataloader,device=device)\n",
    "val_df  = create_feature_extractor(model=net,train_dataloader=valid_dataloader,device=device)\n",
    "df.head()"
   ]
  },
  {
   "cell_type": "code",
   "execution_count": 62,
   "metadata": {},
   "outputs": [],
   "source": [
    "X_train,y_train = df.iloc[:,:-1],df.iloc[:,-1]\n",
    "X_val,y_val = val_df.iloc[:,:-1],val_df.iloc[:,-1]"
   ]
  },
  {
   "cell_type": "code",
   "execution_count": 72,
   "metadata": {},
   "outputs": [
    {
     "name": "stdout",
     "output_type": "stream",
     "text": [
      "Fitting 2 folds for each of 12 candidates, totalling 24 fits\n",
      "Best parameters are: {'learning_rate': 0.1, 'max_depth': 5, 'n_estimators': 50}\n"
     ]
    },
    {
     "data": {
      "image/png": "[encoded data removed]",
      "text/plain": [
       "<Figure size 1200x400 with 1 Axes>"
      ]
     },
     "metadata": {},
     "output_type": "display_data"
    }
   ],
   "source": [
    "def grid_xgboost(X_train,y_train):\n",
    "    # Define the model\n",
    "    model = XGBRegressor()\n",
    "    # Define the parameter grid to search over\n",
    "    param_grid = {'n_estimators': [50, 100],'learning_rate': [0.01, 0.1, 0.3],'max_depth': [5, 7]}\n",
    "    # Create the GridSearchCV object\n",
    "    grid_search = GridSearchCV(model, param_grid, cv=2, n_jobs=-1,verbose=3)\n",
    "    # Fit the GridSearchCV object to the data\n",
    "    grid_search.fit(X_train, y_train)\n",
    "    # Get the best model and its hyperparameters\n",
    "    best_model = grid_search.best_estimator_\n",
    "    best_params = grid_search.best_params_\n",
    "    print(f\"Best parameters are: {best_params}\")\n",
    "    return best_model\n",
    "\n",
    "model = grid_xgboost(X_train,y_train)\n",
    "model.fit(X_train, y_train)\n",
    "# Make predictions on the test set\n",
    "y_pred = model.predict(X_val)\n",
    "# Evaluate the model\n",
    "plot_regression_metrics(y_val,y_pred)"
   ]
  },
  {
   "cell_type": "code",
   "execution_count": 71,
   "metadata": {},
   "outputs": [
    {
     "data": {
      "image/png": "[encoded data removed]",
      "text/plain": [
       "<Figure size 1200x400 with 1 Axes>"
      ]
     },
     "metadata": {},
     "output_type": "display_data"
    }
   ],
   "source": [
    "from sklearn.linear_model import LinearRegression\n",
    "\n",
    "# Create a Linear Regression model\n",
    "model = LinearRegression()\n",
    "# Train the model on the training set\n",
    "model.fit(X_train, y_train)\n",
    "# Make predictions on the test set\n",
    "y_pred = model.predict(X_val)\n",
    "# Evaluate the model\n",
    "plot_regression_metrics(y_val,y_pred)"
   ]
  },
  {
   "attachments": {},
   "cell_type": "markdown",
   "metadata": {},
   "source": [
    "### Trying Target Transformation due to Imbalance ( We could also treat the problem as a classification\n",
    "### problem, and we actually did try that but it did not show much improvement and didn't seem worth to continue\n",
    "### The main benefit of treating it as a classification problem is that there are more ways to deal with imbalances\n",
    "### on a classification tasks rather than regression tasks)"
   ]
  },
  {
   "cell_type": "code",
   "execution_count": null,
   "metadata": {},
   "outputs": [],
   "source": [
    "class Transformer():\n",
    "    def __init__(self):\n",
    "        self._lambda = 0 # init lambda -> required for box cox inverse transformation\n",
    "    \n",
    "    def apply_transformation(self, data_in, transform_key):\n",
    "        if transform_key == \"no_transformation\":\n",
    "            data_transformed = data_in\n",
    "        elif transform_key == \"square_root\":\n",
    "            data_transformed = np.sqrt(data_in)\n",
    "        elif transform_key == \"log\":\n",
    "            data_transformed = np.log(data_in)\n",
    "        elif transform_key == \"boxcox\":\n",
    "            data_transformed, self._lambda = stats.boxcox(data_in)\n",
    "        else:\n",
    "            raise ValueError(f\"{transform_key} is an invalid option!\")\n",
    "        \n",
    "        return data_transformed\n",
    "    \n",
    "    def apply_inverse_transformation(self, data_in, transform_key):\n",
    "        if transform_key == \"no_transformation\":\n",
    "            data_transformed = data_in\n",
    "        elif transform_key == \"square_root\":\n",
    "            data_transformed = data_in**2\n",
    "        elif transform_key == \"log\":\n",
    "            data_transformed = np.exp(data_in)\n",
    "        elif transform_key == \"boxcox\":\n",
    "            data_transformed = special.inv_boxcox(data_in, self._lambda)\n",
    "        else:\n",
    "            raise ValueError(f\"{transform_key} is an invalid option!\")\n",
    "        \n",
    "        return data_transformed\n",
    "\n",
    "\n",
    "        \n",
    "# iterate over different transformations and train model plus get error\n",
    "transformations_list = [\"no_transformation\",\"square_root\",\"log\",\"boxcox\"]\n",
    "results_dict = {}\n",
    "for transformation in transformations_list:\n",
    "    transformer = Transformer()\n",
    "    y_train_transformed = transformer.apply_transformation(y_train, transformation)\n",
    "    # create linear regression model and train\n",
    "    model = grid_xgboost(X_train,y_train_transformed)\n",
    "    # create predictions on test set\n",
    "    preds = model.predict(X_val)\n",
    "    # transform back\n",
    "    preds = transformer.apply_inverse_transformation(preds, transformation)\n",
    "    # get mse and r2\n",
    "    r2 = r2_score(y_val, preds)\n",
    "    mse = mean_squared_error(y_val, preds)\n",
    "    # store in results dict\n",
    "    results_dict[transformation] = [r2, mse]\n",
    "\n",
    "df_results = pd.DataFrame.from_dict(results_dict, orient=\"index\", columns=[\"R2-Score\", \"MSE\"])\n",
    "print(df_results)"
   ]
  },
  {
   "attachments": {},
   "cell_type": "markdown",
   "metadata": {},
   "source": [
    "# Section 2"
   ]
  },
  {
   "cell_type": "code",
   "execution_count": 107,
   "metadata": {},
   "outputs": [],
   "source": [
    "import torch\n",
    "import torch.nn as nn\n",
    "import torch.optim as optim\n",
    "from torch.utils.data import DataLoader, Dataset\n",
    "from gensim.models import Word2Vec\n",
    "import numpy as np\n",
    "import gensim \n",
    "from gensim import corpora\n",
    "import logging\n",
    "import torch.nn.utils\n",
    "logging.basicConfig(format='%(asctime)s : %(levelname)s : %(message)s', level=logging.INFO)\n",
    "from sklearn.feature_extraction.text import ENGLISH_STOP_WORDS"
   ]
  },
  {
   "cell_type": "code",
   "execution_count": 108,
   "metadata": {},
   "outputs": [],
   "source": [
    "def preprocess_words(data, stoplist=None, sentence_size= 10, min_freq=1):\n",
    "    # remove common words and tokenize\n",
    "    if stoplist == None:\n",
    "        stoplist = set(ENGLISH_STOP_WORDS)\n",
    "    texts = [[word for word in document.lower().split() if word not in stoplist] for document in data]\n",
    "\n",
    "    # remove words that appear only once\n",
    "    from collections import defaultdict\n",
    "    frequency = defaultdict(int)\n",
    "    for text in texts:\n",
    "        for token in text:\n",
    "            frequency[token] += 1\n",
    "\n",
    "    texts = [[token for token in text if frequency[token] > min_freq]\n",
    "            for text in texts]\n",
    "    return texts"
   ]
  },
  {
   "cell_type": "code",
   "execution_count": 109,
   "metadata": {},
   "outputs": [],
   "source": [
    "product_description = preprocess_words(train_df['product_description'])\n",
    "search_term  = preprocess_words(train_df['search_term'])"
   ]
  },
  {
   "cell_type": "code",
   "execution_count": 110,
   "metadata": {},
   "outputs": [
    {
     "name": "stderr",
     "output_type": "stream",
     "text": [
      "2023-02-21 22:29:34,237 : INFO : collecting all words and their counts\n",
      "2023-02-21 22:29:34,238 : INFO : PROGRESS: at sentence #0, processed 0 words, keeping 0 word types\n",
      "2023-02-21 22:29:34,332 : INFO : PROGRESS: at sentence #10000, processed 986933 words, keeping 46321 word types\n",
      "2023-02-21 22:29:34,441 : INFO : PROGRESS: at sentence #20000, processed 1897452 words, keeping 71031 word types\n",
      "2023-02-21 22:29:34,547 : INFO : PROGRESS: at sentence #30000, processed 2792105 words, keeping 85308 word types\n",
      "2023-02-21 22:29:34,569 : INFO : PROGRESS: at sentence #40000, processed 2925114 words, keeping 87643 word types\n",
      "2023-02-21 22:29:34,578 : INFO : PROGRESS: at sentence #50000, processed 2953416 words, keeping 88199 word types\n",
      "2023-02-21 22:29:34,584 : INFO : PROGRESS: at sentence #60000, processed 2981651 words, keeping 88355 word types\n",
      "2023-02-21 22:29:34,587 : INFO : collected 88361 word types from a corpus of 2988719 raw words and 62492 sentences\n",
      "2023-02-21 22:29:34,587 : INFO : Creating a fresh vocabulary\n",
      "2023-02-21 22:29:34,766 : INFO : Word2Vec lifecycle event {'msg': 'effective_min_count=1 retains 88361 unique words (100.00% of original 88361, drops 0)', 'datetime': '2023-02-21T22:29:34.766730', 'gensim': '4.3.0', 'python': '3.10.10 (tags/v3.10.10:aad5f6a, Feb  7 2023, 17:20:36) [MSC v.1929 64 bit (AMD64)]', 'platform': 'Windows-10-10.0.22621-SP0', 'event': 'prepare_vocab'}\n",
      "2023-02-21 22:29:34,767 : INFO : Word2Vec lifecycle event {'msg': 'effective_min_count=1 leaves 2988719 word corpus (100.00% of original 2988719, drops 0)', 'datetime': '2023-02-21T22:29:34.767736', 'gensim': '4.3.0', 'python': '3.10.10 (tags/v3.10.10:aad5f6a, Feb  7 2023, 17:20:36) [MSC v.1929 64 bit (AMD64)]', 'platform': 'Windows-10-10.0.22621-SP0', 'event': 'prepare_vocab'}\n",
      "2023-02-21 22:29:35,027 : INFO : deleting the raw counts dictionary of 88361 items\n",
      "2023-02-21 22:29:35,029 : INFO : sample=0.001 downsamples 13 most-common words\n",
      "2023-02-21 22:29:35,029 : INFO : Word2Vec lifecycle event {'msg': 'downsampling leaves estimated 2915084.2516718316 word corpus (97.5%% of prior 2988719)', 'datetime': '2023-02-21T22:29:35.029634', 'gensim': '4.3.0', 'python': '3.10.10 (tags/v3.10.10:aad5f6a, Feb  7 2023, 17:20:36) [MSC v.1929 64 bit (AMD64)]', 'platform': 'Windows-10-10.0.22621-SP0', 'event': 'prepare_vocab'}\n",
      "2023-02-21 22:29:35,410 : INFO : estimated required memory for 88361 words and 50 dimensions: 79524900 bytes\n",
      "2023-02-21 22:29:35,411 : INFO : resetting layer weights\n",
      "2023-02-21 22:29:35,426 : INFO : Word2Vec lifecycle event {'update': False, 'trim_rule': 'None', 'datetime': '2023-02-21T22:29:35.426626', 'gensim': '4.3.0', 'python': '3.10.10 (tags/v3.10.10:aad5f6a, Feb  7 2023, 17:20:36) [MSC v.1929 64 bit (AMD64)]', 'platform': 'Windows-10-10.0.22621-SP0', 'event': 'build_vocab'}\n",
      "2023-02-21 22:29:35,427 : INFO : Word2Vec lifecycle event {'msg': 'training model with 10 workers on 88361 vocabulary and 50 features, using sg=0 hs=0 sample=0.001 negative=5 window=10 shrink_windows=True', 'datetime': '2023-02-21T22:29:35.427761', 'gensim': '4.3.0', 'python': '3.10.10 (tags/v3.10.10:aad5f6a, Feb  7 2023, 17:20:36) [MSC v.1929 64 bit (AMD64)]', 'platform': 'Windows-10-10.0.22621-SP0', 'event': 'train'}\n",
      "2023-02-21 22:29:36,239 : INFO : EPOCH 0: training on 2988719 raw words (2915168 effective words) took 0.8s, 3631564 effective words/s\n",
      "2023-02-21 22:29:36,998 : INFO : EPOCH 1: training on 2988719 raw words (2915089 effective words) took 0.8s, 3864659 effective words/s\n",
      "2023-02-21 22:29:37,754 : INFO : EPOCH 2: training on 2988719 raw words (2915260 effective words) took 0.8s, 3883747 effective words/s\n",
      "2023-02-21 22:29:38,522 : INFO : EPOCH 3: training on 2988719 raw words (2915038 effective words) took 0.8s, 3821950 effective words/s\n",
      "2023-02-21 22:29:39,306 : INFO : EPOCH 4: training on 2988719 raw words (2915001 effective words) took 0.8s, 3743375 effective words/s\n",
      "2023-02-21 22:29:39,307 : INFO : Word2Vec lifecycle event {'msg': 'training on 14943595 raw words (14575556 effective words) took 3.9s, 3757289 effective words/s', 'datetime': '2023-02-21T22:29:39.307776', 'gensim': '4.3.0', 'python': '3.10.10 (tags/v3.10.10:aad5f6a, Feb  7 2023, 17:20:36) [MSC v.1929 64 bit (AMD64)]', 'platform': 'Windows-10-10.0.22621-SP0', 'event': 'train'}\n",
      "2023-02-21 22:29:39,307 : INFO : Word2Vec lifecycle event {'params': 'Word2Vec<vocab=88361, vector_size=50, alpha=0.025>', 'datetime': '2023-02-21T22:29:39.307776', 'gensim': '4.3.0', 'python': '3.10.10 (tags/v3.10.10:aad5f6a, Feb  7 2023, 17:20:36) [MSC v.1929 64 bit (AMD64)]', 'platform': 'Windows-10-10.0.22621-SP0', 'event': 'created'}\n",
      "2023-02-21 22:29:39,308 : WARNING : Effective 'alpha' higher than previous training cycles\n",
      "2023-02-21 22:29:39,309 : INFO : Word2Vec lifecycle event {'msg': 'training model with 10 workers on 88361 vocabulary and 50 features, using sg=0 hs=0 sample=0.001 negative=5 window=10 shrink_windows=True', 'datetime': '2023-02-21T22:29:39.309776', 'gensim': '4.3.0', 'python': '3.10.10 (tags/v3.10.10:aad5f6a, Feb  7 2023, 17:20:36) [MSC v.1929 64 bit (AMD64)]', 'platform': 'Windows-10-10.0.22621-SP0', 'event': 'train'}\n",
      "2023-02-21 22:29:40,080 : INFO : EPOCH 0: training on 2988719 raw words (2915119 effective words) took 0.8s, 3806097 effective words/s\n",
      "2023-02-21 22:29:40,820 : INFO : EPOCH 1: training on 2988719 raw words (2915117 effective words) took 0.7s, 3968304 effective words/s\n",
      "2023-02-21 22:29:41,559 : INFO : EPOCH 2: training on 2988719 raw words (2915148 effective words) took 0.7s, 3980886 effective words/s\n",
      "2023-02-21 22:29:42,320 : INFO : EPOCH 3: training on 2988719 raw words (2915181 effective words) took 0.8s, 3852329 effective words/s\n",
      "2023-02-21 22:29:43,064 : INFO : EPOCH 4: training on 2988719 raw words (2915042 effective words) took 0.7s, 3946041 effective words/s\n",
      "2023-02-21 22:29:43,816 : INFO : EPOCH 5: training on 2988719 raw words (2914997 effective words) took 0.7s, 3907109 effective words/s\n",
      "2023-02-21 22:29:44,560 : INFO : EPOCH 6: training on 2988719 raw words (2914933 effective words) took 0.7s, 3949325 effective words/s\n",
      "2023-02-21 22:29:45,351 : INFO : EPOCH 7: training on 2988719 raw words (2915153 effective words) took 0.8s, 3712371 effective words/s\n",
      "2023-02-21 22:29:46,151 : INFO : EPOCH 8: training on 2988719 raw words (2915071 effective words) took 0.8s, 3670527 effective words/s\n",
      "2023-02-21 22:29:46,922 : INFO : EPOCH 9: training on 2988719 raw words (2915253 effective words) took 0.8s, 3804867 effective words/s\n",
      "2023-02-21 22:29:46,923 : INFO : Word2Vec lifecycle event {'msg': 'training on 29887190 raw words (29151014 effective words) took 7.6s, 3828906 effective words/s', 'datetime': '2023-02-21T22:29:46.923258', 'gensim': '4.3.0', 'python': '3.10.10 (tags/v3.10.10:aad5f6a, Feb  7 2023, 17:20:36) [MSC v.1929 64 bit (AMD64)]', 'platform': 'Windows-10-10.0.22621-SP0', 'event': 'train'}\n"
     ]
    },
    {
     "data": {
      "text/plain": [
       "(29151014, 29887190)"
      ]
     },
     "execution_count": 110,
     "metadata": {},
     "output_type": "execute_result"
    }
   ],
   "source": [
    "# Load and preprocess your text data as needed\n",
    "vector_size= 50\n",
    "# Train a Word2Vec model on your preprocessed text data to generate word embeddings\n",
    "texts = product_description + search_term\n",
    "model = gensim.models.Word2Vec(texts,vector_size=vector_size,window=10,min_count=1,workers=10)\n",
    "model.train(texts, total_examples=len(texts), epochs=10)"
   ]
  },
  {
   "cell_type": "code",
   "execution_count": 111,
   "metadata": {},
   "outputs": [],
   "source": [
    "# Define a custom PyTorch dataset to preprocess and load your text data\n",
    "class WordDataset(Dataset):\n",
    "    def __init__(self, df,train=True, stoplist=None, sentence_size= 10):\n",
    "        self.df = df\n",
    "        self.text1 = preprocess_words(df[\"product_description\"])\n",
    "        self.text2 = preprocess_words(df[\"search_term\"])\n",
    "        self.sentence_size = sentence_size\n",
    "        if stoplist == None:\n",
    "            self.stoplist = set(ENGLISH_STOP_WORDS)\n",
    "        if train:\n",
    "            self.labels = (torch.tensor(df[\"relevance\"].to_numpy()).unsqueeze(1) - 1)/2 # Normalizing between 0 and 1\n",
    "\n",
    "    def __len__(self):\n",
    "        return len(self.labels)\n",
    "    \n",
    "    def words2batch(self, words):     \n",
    "        if len(words) > self.sentence_size:\n",
    "            words= words[:self.sentence_size]\n",
    "            words = torch.tensor([model.wv[token] for token in words])\n",
    "        else:\n",
    "            words = torch.tensor([model.wv[token] for token in words])\n",
    "            pading_size = self.sentence_size - words.size(0)\n",
    "            words = torch.cat((words, torch.zeros(pading_size,50)))\n",
    "\n",
    "                \n",
    "        return words\n",
    "\n",
    "    def __getitem__(self, index):\n",
    "        label = self.labels[index]\n",
    "        input1 = self.words2batch(self.text1[index])\n",
    "        input2 = self.words2batch(self.text2[index])\n",
    "        \n",
    "        return input1, input2, label"
   ]
  },
  {
   "cell_type": "code",
   "execution_count": 112,
   "metadata": {},
   "outputs": [],
   "source": [
    "# Define a Siamese neural network architecture using PyTorch with LSTM layers\n",
    "class SiameseNetwork(nn.Module):\n",
    "    def __init__(self, embedding_size=50, hidden_size=32, layers=1):\n",
    "        super(SiameseNetwork, self).__init__()\n",
    "        self.lstm = nn.LSTM(input_size=embedding_size,hidden_size=hidden_size,num_layers=layers, batch_first=True, bidirectional = True)\n",
    "        self.regressor = nn.Linear(hidden_size, 16)\n",
    "\n",
    "    def forward(self, input1, input2):\n",
    "        hidden_features1, (h_n1, _) = self.lstm(input1)\n",
    "        hidden_features2, (h_n2, _)= self.lstm(input2)\n",
    "        lstm1 = self.regressor(h_n1[-1])\n",
    "        lstm2 = self.regressor(h_n2[-1])\n",
    "        output = F.cosine_similarity(lstm1,lstm2)+ 2\n",
    "        return lstm1, lstm2, output"
   ]
  },
  {
   "cell_type": "code",
   "execution_count": 113,
   "metadata": {},
   "outputs": [],
   "source": [
    "lr = 0.001\n",
    "n_hidden = 128\n",
    "n_layers = 4\n",
    "sentence_size = 30\n",
    "n_featur = vector_size\n",
    "network = SiameseNetwork(embedding_size=n_featur, hidden_size=n_hidden,layers=n_layers).to(device=device)\n",
    "criterion = ContrastiveLoss()\n",
    "optimizer = optim.Adam(network.parameters(), lr = lr )\n",
    "\n",
    "train_dataloader = DataLoader(WordDataset(df=train_df,sentence_size=sentence_size ),batch_size=256,shuffle=False)\n",
    "val_dataloader = DataLoader(WordDataset(df=val_df, sentence_size=sentence_size),batch_size=256,shuffle=False)"
   ]
  },
  {
   "cell_type": "code",
   "execution_count": null,
   "metadata": {},
   "outputs": [],
   "source": [
    "lr = 0.0001\n",
    "n_hidden = 128\n",
    "n_layers = 2\n",
    "sentence_size = 40\n",
    "n_feature = vector_size\n",
    "network = SiameseNetwork(embedding_size=n_feature, hidden_size=n_hidden,layers=n_layers).to(device=device)\n",
    "criterion = ContrastiveLoss()\n",
    "optimizer = optim.Adam(network.parameters(), lr = lr )\n",
    "\n",
    "train_dataloader = DataLoader(WordDataset(df=train_df,sentence_size=sentence_size ),batch_size=256,shuffle=False)\n",
    "val_dataloader = DataLoader(WordDataset(df=val_df, sentence_size=sentence_size),batch_size=256,shuffle=False)\n",
    "\n",
    "run = neptune.init_run(\n",
    "    project=\"astarteam/PDLW-assignment-4\",\n",
    "    api_token=\"eyJhcGlfYWRkcmVzcyI6Imh0dHBzOi8vYXBwLm5lcHR1bmUuYWkiLCJhcGlfdXJsIjoiaHR0cHM6Ly9hcHAubmVwdHVuZS5haSIsImFwaV9rZXkiOiJhMDI5YzIxMy00NjE1LTQ2MDUtOTk3NS1jNDJhMjIzZDE0NDMifQ==\",\n",
    ")  # your credentials\n",
    "\n",
    "\n",
    "params = {\"learning_rate\": lr,'n_hidden': n_hidden, \n",
    "        'n_layers':n_layers, 'n_featur' :n_feature,\n",
    "        'sentence size': sentence_size,\n",
    "        'model':'LSTM with word level input'}\n",
    "\n",
    "run[\"parameters\"] = params\n",
    "dataset_size = len(train_dataloader.dataset) \n",
    "for epoch in range(8):\n",
    "    train_loss, train_mse, train_mae,train_rmse,train_mape = 0, 0, 0,0,0\n",
    "    val_loss, val_mse, val_mae, val_rmse,val_mape = 0, 0, 0, 0,0\n",
    "    # train loop\n",
    "    network.train()\n",
    "    for i, (title, term, label) in enumerate(train_dataloader, 0):\n",
    "        title,term,label = title.to(device), term.to(device), label.to(device)\n",
    "        optimizer.zero_grad()\n",
    "        output1, output2,pred = network(title, term)\n",
    "        loss_contrastive = criterion(output1, output2, label)\n",
    "        train_loss += loss_contrastive\n",
    "        loss_contrastive.backward()\n",
    "        optimizer.step()\n",
    "        GT = label.detach().cpu().numpy()\n",
    "        pred = pred.detach().cpu().numpy()\n",
    "        train_mse += MSE(GT,pred)\n",
    "        train_rmse += MSE(GT,pred, squared=True)\n",
    "        train_mae += MAE(GT,pred)\n",
    "        train_mape += MAPE(GT,pred)\n",
    "\n",
    "        # Every 100 batches print out the loss\n",
    "        if i % 100 == 0 :\n",
    "            print(f\"Epoch number {epoch}\\n Current train loss {loss_contrastive.item()}\\n\")\n",
    "\n",
    "    run[\"train/MSE\"].log(train_mse/dataset_size)\n",
    "    run[\"train/RMSE\"].log(train_rmse/dataset_size)\n",
    "    run[\"train/MAPE\"].log(train_mape/dataset_size)\n",
    "    run[\"train/MAE\"].log(train_mae/dataset_size)\n",
    "    run[\"train/loss\"].log(train_loss/dataset_size)\n",
    "\n",
    "    # validation loop\n",
    "    with torch.no_grad():\n",
    "        network.eval()\n",
    "        for i, (title, term, label) in enumerate(val_dataloader, 0):\n",
    "            title, term, label = title.to(device), term.to(device), label.to(device)\n",
    "            optimizer.zero_grad()\n",
    "            output1, output2, pred = network(title.float(), term.float())\n",
    "            loss_contrastive = criterion(output1, output2, label)\n",
    "            val_loss += loss_contrastive\n",
    "            GT = label.detach().cpu().numpy()\n",
    "            pred = pred.detach().cpu().numpy()\n",
    "            val_mse += MSE(GT,pred)\n",
    "            val_rmse += MSE(GT,pred, squared=True)\n",
    "            val_mae += MAE(GT,pred)\n",
    "            val_mape += MAPE(GT,pred)\n",
    "            # Every 100 batches print out the loss\n",
    "            if i % 100 == 0 :\n",
    "                print(f\"Epoch number {epoch}\\n Current validation loss {loss_contrastive.item()}\\n\")\n",
    "\n",
    "        run[\"val/MSE\"].log(val_mse/dataset_size)\n",
    "        run[\"val/RMSE\"].log(val_rmse/dataset_size)\n",
    "        run[\"val/MAPE\"].log(val_mape/dataset_size)\n",
    "        run[\"val/MAE\"].log(val_mae/dataset_size)\n",
    "        run[\"val/loss\"].log(val_loss/dataset_size)\n",
    "\n",
    "run.stop()"
   ]
  },
  {
   "cell_type": "code",
   "execution_count": 114,
   "metadata": {},
   "outputs": [],
   "source": [
    "def create_feature_extractor_b(model,regerror_out, train_dataloader,device):\n",
    "    # Iterate over batches\n",
    "    output_list = []\n",
    "    labels = []\n",
    "    with torch.no_grad():\n",
    "        for i, (title, term, label) in enumerate(train_dataloader, 0):\n",
    "            title,term,label = title.to(device), term.to(device), label.to(device)\n",
    "            output_1, output_2, _ = model(title.float(), term.float())\n",
    "            output = torch.cat((output_1.detach().cpu(), output_2.detach().cpu()),dim=1)\n",
    "            output = output.view(-1,regerror_out)\n",
    "            output_list.append(output)\n",
    "            labels.append(label.detach().cpu())\n",
    "\n",
    "        output_list = torch.cat((output_list),dim=0)\n",
    "        labels = torch.cat((labels),dim=0)\n",
    "        final = torch.cat((output_list,labels), dim = 1)\n",
    "        cols = [f\"feature_{x}\" for x in range(final.size(1))]\n",
    "        cols[-1] = \"Target\"\n",
    "    return pd.DataFrame(data = final.numpy(),columns=cols)"
   ]
  },
  {
   "cell_type": "code",
   "execution_count": 115,
   "metadata": {},
   "outputs": [],
   "source": [
    "train_ext_feature = create_feature_extractor_b(network,regerror_out=32, train_dataloader=train_dataloader, device=device)\n",
    "val_ext_feature = create_feature_extractor_b(network,regerror_out=32, train_dataloader=train_dataloader, device=device)"
   ]
  },
  {
   "cell_type": "code",
   "execution_count": 116,
   "metadata": {},
   "outputs": [],
   "source": [
    "X_train, y_train = train_ext_feature.drop(columns=['Target']), train_ext_feature['Target']\n",
    "X_val, y_val = val_ext_feature.drop(columns=['Target']), val_ext_feature['Target']"
   ]
  },
  {
   "cell_type": "code",
   "execution_count": null,
   "metadata": {},
   "outputs": [],
   "source": [
    "import xgboost as xgb\n",
    "import catboost as cb\n",
    "from sklearn.model_selection import train_test_split\n",
    "from sklearn.metrics import *\n",
    "from sklearn.model_selection import GridSearchCV\n",
    "from sklearn.metrics import mean_poisson_deviance, mean_gamma_deviance"
   ]
  },
  {
   "cell_type": "code",
   "execution_count": null,
   "metadata": {},
   "outputs": [],
   "source": [
    "xgb_model = grid_xgboost(X_train,y_train)\n",
    "preds = xgb_model.predict(X_train)\n",
    "plot_regression_metrics(y_train,preds, 'Train')\n",
    "val_preds = xgb_model.predict(X_val)\n",
    "plot_regression_metrics(y_val,val_preds, 'Validation')"
   ]
  },
  {
   "cell_type": "code",
   "execution_count": null,
   "metadata": {},
   "outputs": [],
   "source": [
    "catboost = cb.CatBoostRegressor(loss_function='RMSE')\n",
    "parameters = {'depth': [6, 8, 10],\n",
    "              'learning_rate': [0.01, 0.05],\n",
    "              'iterations': [100, 500]}\n",
    "\n",
    "search = GridSearchCV(catboost, parameters, cv=2).fit(X_train, y_train)\n",
    "\n",
    "\n",
    "print(\"Best parameters found: \", search.best_params_)\n",
    "print(\"Best accuracy: \", search.best_score_)"
   ]
  },
  {
   "cell_type": "code",
   "execution_count": null,
   "metadata": {},
   "outputs": [],
   "source": [
    "preds = search.best_estimator_.predict(X_train)\n",
    "plot_regression_metrics(y_train,preds, 'Train')\n",
    "val_preds = search.best_estimator_.predict(X_val)\n",
    "plot_regression_metrics(y_val,val_preds, 'Validation')"
   ]
  },
  {
   "cell_type": "code",
   "execution_count": null,
   "metadata": {},
   "outputs": [],
   "source": [
    "from catboost import Pool\n",
    "C:\\Users\\nati\\Desktop\\Implementations\\Assignment4-NLP\\Assignment4.ipynb"
   ]
  },
  {
   "cell_type": "code",
   "execution_count": null,
   "metadata": {},
   "outputs": [],
   "source": [
    "model = cb.CatBoostRegressor(depth= 10, iterations=500, learning_rate=0.05 ,loss_function='RMSE')\n",
    "# define the datasets to evaluate each iteration\n",
    "evalset = [(X_train, y_train), (X_val,y_val)]\n",
    "# fit the model\n",
    "model.fit(X_train, y_train, eval_metric='rmse', eval_set=evalset)\n",
    "# evaluate performance\n",
    "yhat = model.predict(X_val)\n",
    "# score = accuracy_score(y_test, yhat)\n",
    "# print('Accuracy: %.3f' % score)\n",
    "# retrieve performance metrics\n",
    "results = model.evals_result()\n",
    "# plot learning curves\n",
    "plt.plot(results['validation_0']['rmse'], label='train')\n",
    "plt.plot(results['validation_1']['rmse'], label='test')\n",
    "\n",
    "plt.title('Learning Curves')\n",
    "plt.legend()\n",
    "plt.show()"
   ]
  }
 ],
 "metadata": {
  "kernelspec": {
   "display_name": "ProjectsVenv",
   "language": "python",
   "name": "python3"
  },
  "language_info": {
   "codemirror_mode": {
    "name": "ipython",
    "version": 3
   },
   "file_extension": ".py",
   "mimetype": "text/x-python",
   "name": "python",
   "nbconvert_exporter": "python",
   "pygments_lexer": "ipython3",
   "version": "3.10.10"
  },
  "orig_nbformat": 4,
  "vscode": {
   "interpreter": {
    "hash": "1e64c7bed6149874ff52d4c5d559f37ab99520a3670b26927592073e706c5752"
   }
  }
 },
 "nbformat": 4,
 "nbformat_minor": 2
}
